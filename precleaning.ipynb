{
 "cells": [
  {
   "cell_type": "code",
   "execution_count": 19,
   "metadata": {},
   "outputs": [],
   "source": [
    "import pandas as pd\n",
    "import numpy as np\n",
    "import seaborn as sns\n",
    "import matplotlib.pyplot as plt\n",
    "from sklearn.preprocessing import LabelEncoder\n",
    "import pickle\n",
    "import scipy\n",
    "from sklearn.preprocessing import StandardScaler, OneHotEncoder\n",
    "from sklearn.model_selection import train_test_split,GridSearchCV\n",
    "from sklearn.metrics import r2_score,mean_squared_error,mean_absolute_error\n",
    "from sklearn.tree import DecisionTreeClassifier\n",
    "from sklearn.ensemble import ExtraTreesClassifier\n",
    "from sklearn.ensemble import RandomForestClassifier\n",
    "from sklearn.tree import DecisionTreeRegressor\n",
    "from sklearn.ensemble import RandomForestRegressor\n",
    "from sklearn.ensemble import ExtraTreesRegressor\n",
    "from sklearn.metrics import confusion_matrix, accuracy_score, classification_report"
   ]
  },
  {
   "cell_type": "code",
   "execution_count": 20,
   "metadata": {},
   "outputs": [
    {
     "data": {
      "text/html": [
       "<div>\n",
       "<style scoped>\n",
       "    .dataframe tbody tr th:only-of-type {\n",
       "        vertical-align: middle;\n",
       "    }\n",
       "\n",
       "    .dataframe tbody tr th {\n",
       "        vertical-align: top;\n",
       "    }\n",
       "\n",
       "    .dataframe thead th {\n",
       "        text-align: right;\n",
       "    }\n",
       "</style>\n",
       "<table border=\"1\" class=\"dataframe\">\n",
       "  <thead>\n",
       "    <tr style=\"text-align: right;\">\n",
       "      <th></th>\n",
       "      <th>id</th>\n",
       "      <th>item_date</th>\n",
       "      <th>quantity tons</th>\n",
       "      <th>customer</th>\n",
       "      <th>country</th>\n",
       "      <th>status</th>\n",
       "      <th>item type</th>\n",
       "      <th>application</th>\n",
       "      <th>thickness</th>\n",
       "      <th>width</th>\n",
       "      <th>material_ref</th>\n",
       "      <th>product_ref</th>\n",
       "      <th>delivery date</th>\n",
       "      <th>selling_price</th>\n",
       "    </tr>\n",
       "  </thead>\n",
       "  <tbody>\n",
       "    <tr>\n",
       "      <th>0</th>\n",
       "      <td>EC06F063-9DF0-440C-8764-0B0C05A4F6AE</td>\n",
       "      <td>20210401.0</td>\n",
       "      <td>54.151139</td>\n",
       "      <td>30156308.0</td>\n",
       "      <td>28.0</td>\n",
       "      <td>Won</td>\n",
       "      <td>W</td>\n",
       "      <td>10.0</td>\n",
       "      <td>2.00</td>\n",
       "      <td>1500.0</td>\n",
       "      <td>DEQ1 S460MC</td>\n",
       "      <td>1670798778</td>\n",
       "      <td>20210701.0</td>\n",
       "      <td>854.00</td>\n",
       "    </tr>\n",
       "    <tr>\n",
       "      <th>1</th>\n",
       "      <td>4E5F4B3D-DDDF-499D-AFDE-A3227EC49425</td>\n",
       "      <td>20210401.0</td>\n",
       "      <td>768.024839</td>\n",
       "      <td>30202938.0</td>\n",
       "      <td>25.0</td>\n",
       "      <td>Won</td>\n",
       "      <td>W</td>\n",
       "      <td>41.0</td>\n",
       "      <td>0.80</td>\n",
       "      <td>1210.0</td>\n",
       "      <td>0000000000000000000000000000000000104991</td>\n",
       "      <td>1668701718</td>\n",
       "      <td>20210401.0</td>\n",
       "      <td>1047.00</td>\n",
       "    </tr>\n",
       "    <tr>\n",
       "      <th>2</th>\n",
       "      <td>E140FF1B-2407-4C02-A0DD-780A093B1158</td>\n",
       "      <td>20210401.0</td>\n",
       "      <td>386.127949</td>\n",
       "      <td>30153963.0</td>\n",
       "      <td>30.0</td>\n",
       "      <td>Won</td>\n",
       "      <td>WI</td>\n",
       "      <td>28.0</td>\n",
       "      <td>0.38</td>\n",
       "      <td>952.0</td>\n",
       "      <td>S0380700</td>\n",
       "      <td>628377</td>\n",
       "      <td>20210101.0</td>\n",
       "      <td>644.33</td>\n",
       "    </tr>\n",
       "    <tr>\n",
       "      <th>3</th>\n",
       "      <td>F8D507A0-9C62-4EFE-831E-33E1DA53BB50</td>\n",
       "      <td>20210401.0</td>\n",
       "      <td>202.411065</td>\n",
       "      <td>30349574.0</td>\n",
       "      <td>32.0</td>\n",
       "      <td>Won</td>\n",
       "      <td>S</td>\n",
       "      <td>59.0</td>\n",
       "      <td>2.30</td>\n",
       "      <td>1317.0</td>\n",
       "      <td>DX51D+ZM310MAO 2.3X1317</td>\n",
       "      <td>1668701718</td>\n",
       "      <td>20210101.0</td>\n",
       "      <td>768.00</td>\n",
       "    </tr>\n",
       "    <tr>\n",
       "      <th>4</th>\n",
       "      <td>4E1C4E78-152B-430A-8094-ADD889C9D0AD</td>\n",
       "      <td>20210401.0</td>\n",
       "      <td>785.526262</td>\n",
       "      <td>30211560.0</td>\n",
       "      <td>28.0</td>\n",
       "      <td>Won</td>\n",
       "      <td>W</td>\n",
       "      <td>10.0</td>\n",
       "      <td>4.00</td>\n",
       "      <td>2000.0</td>\n",
       "      <td>2_S275JR+AR-CL1</td>\n",
       "      <td>640665</td>\n",
       "      <td>20210301.0</td>\n",
       "      <td>577.00</td>\n",
       "    </tr>\n",
       "  </tbody>\n",
       "</table>\n",
       "</div>"
      ],
      "text/plain": [
       "                                     id   item_date quantity tons    customer  \\\n",
       "0  EC06F063-9DF0-440C-8764-0B0C05A4F6AE  20210401.0     54.151139  30156308.0   \n",
       "1  4E5F4B3D-DDDF-499D-AFDE-A3227EC49425  20210401.0    768.024839  30202938.0   \n",
       "2  E140FF1B-2407-4C02-A0DD-780A093B1158  20210401.0    386.127949  30153963.0   \n",
       "3  F8D507A0-9C62-4EFE-831E-33E1DA53BB50  20210401.0    202.411065  30349574.0   \n",
       "4  4E1C4E78-152B-430A-8094-ADD889C9D0AD  20210401.0    785.526262  30211560.0   \n",
       "\n",
       "   country status item type  application  thickness   width  \\\n",
       "0     28.0    Won         W         10.0       2.00  1500.0   \n",
       "1     25.0    Won         W         41.0       0.80  1210.0   \n",
       "2     30.0    Won        WI         28.0       0.38   952.0   \n",
       "3     32.0    Won         S         59.0       2.30  1317.0   \n",
       "4     28.0    Won         W         10.0       4.00  2000.0   \n",
       "\n",
       "                               material_ref  product_ref  delivery date  \\\n",
       "0                               DEQ1 S460MC   1670798778     20210701.0   \n",
       "1  0000000000000000000000000000000000104991   1668701718     20210401.0   \n",
       "2                                  S0380700       628377     20210101.0   \n",
       "3                   DX51D+ZM310MAO 2.3X1317   1668701718     20210101.0   \n",
       "4                           2_S275JR+AR-CL1       640665     20210301.0   \n",
       "\n",
       "   selling_price  \n",
       "0         854.00  \n",
       "1        1047.00  \n",
       "2         644.33  \n",
       "3         768.00  \n",
       "4         577.00  "
      ]
     },
     "execution_count": 20,
     "metadata": {},
     "output_type": "execute_result"
    }
   ],
   "source": [
    "sample=pd.read_excel(\"D:/project/.venv/Industrial_copper_modeling/Copper_set.xlsx\")\n",
    "sample.head()"
   ]
  },
  {
   "cell_type": "code",
   "execution_count": 5,
   "metadata": {},
   "outputs": [
    {
     "data": {
      "text/plain": [
       "(181673, 14)"
      ]
     },
     "execution_count": 5,
     "metadata": {},
     "output_type": "execute_result"
    }
   ],
   "source": [
    "sample.shape"
   ]
  },
  {
   "cell_type": "code",
   "execution_count": 6,
   "metadata": {},
   "outputs": [
    {
     "name": "stdout",
     "output_type": "stream",
     "text": [
      "<class 'pandas.core.frame.DataFrame'>\n",
      "RangeIndex: 181673 entries, 0 to 181672\n",
      "Data columns (total 14 columns):\n",
      " #   Column         Non-Null Count   Dtype  \n",
      "---  ------         --------------   -----  \n",
      " 0   id             181671 non-null  object \n",
      " 1   item_date      181672 non-null  float64\n",
      " 2   quantity tons  181673 non-null  object \n",
      " 3   customer       181672 non-null  float64\n",
      " 4   country        181645 non-null  float64\n",
      " 5   status         181671 non-null  object \n",
      " 6   item type      181673 non-null  object \n",
      " 7   application    181649 non-null  float64\n",
      " 8   thickness      181672 non-null  float64\n",
      " 9   width          181673 non-null  float64\n",
      " 10  material_ref   103754 non-null  object \n",
      " 11  product_ref    181673 non-null  int64  \n",
      " 12  delivery date  181672 non-null  float64\n",
      " 13  selling_price  181672 non-null  float64\n",
      "dtypes: float64(8), int64(1), object(5)\n",
      "memory usage: 19.4+ MB\n"
     ]
    }
   ],
   "source": [
    "sample.info()"
   ]
  },
  {
   "cell_type": "code",
   "execution_count": 7,
   "metadata": {},
   "outputs": [
    {
     "data": {
      "text/html": [
       "<div>\n",
       "<style scoped>\n",
       "    .dataframe tbody tr th:only-of-type {\n",
       "        vertical-align: middle;\n",
       "    }\n",
       "\n",
       "    .dataframe tbody tr th {\n",
       "        vertical-align: top;\n",
       "    }\n",
       "\n",
       "    .dataframe thead th {\n",
       "        text-align: right;\n",
       "    }\n",
       "</style>\n",
       "<table border=\"1\" class=\"dataframe\">\n",
       "  <thead>\n",
       "    <tr style=\"text-align: right;\">\n",
       "      <th></th>\n",
       "      <th>item_date</th>\n",
       "      <th>customer</th>\n",
       "      <th>country</th>\n",
       "      <th>application</th>\n",
       "      <th>thickness</th>\n",
       "      <th>width</th>\n",
       "      <th>product_ref</th>\n",
       "      <th>delivery date</th>\n",
       "      <th>selling_price</th>\n",
       "    </tr>\n",
       "  </thead>\n",
       "  <tbody>\n",
       "    <tr>\n",
       "      <th>count</th>\n",
       "      <td>1.816720e+05</td>\n",
       "      <td>1.816720e+05</td>\n",
       "      <td>181645.000000</td>\n",
       "      <td>181649.000000</td>\n",
       "      <td>181672.000000</td>\n",
       "      <td>181673.000000</td>\n",
       "      <td>1.816730e+05</td>\n",
       "      <td>1.816720e+05</td>\n",
       "      <td>1.816720e+05</td>\n",
       "    </tr>\n",
       "    <tr>\n",
       "      <th>mean</th>\n",
       "      <td>2.020459e+07</td>\n",
       "      <td>3.051221e+07</td>\n",
       "      <td>44.893022</td>\n",
       "      <td>25.615809</td>\n",
       "      <td>2.564827</td>\n",
       "      <td>1295.286724</td>\n",
       "      <td>4.739679e+08</td>\n",
       "      <td>2.020738e+07</td>\n",
       "      <td>1.918036e+03</td>\n",
       "    </tr>\n",
       "    <tr>\n",
       "      <th>std</th>\n",
       "      <td>4.551119e+03</td>\n",
       "      <td>2.433382e+07</td>\n",
       "      <td>24.404214</td>\n",
       "      <td>17.754175</td>\n",
       "      <td>6.572321</td>\n",
       "      <td>261.631754</td>\n",
       "      <td>7.175101e+08</td>\n",
       "      <td>2.411059e+04</td>\n",
       "      <td>3.317956e+05</td>\n",
       "    </tr>\n",
       "    <tr>\n",
       "      <th>min</th>\n",
       "      <td>1.995000e+07</td>\n",
       "      <td>1.245800e+04</td>\n",
       "      <td>25.000000</td>\n",
       "      <td>2.000000</td>\n",
       "      <td>0.180000</td>\n",
       "      <td>1.000000</td>\n",
       "      <td>6.117280e+05</td>\n",
       "      <td>2.019040e+07</td>\n",
       "      <td>-1.160000e+03</td>\n",
       "    </tr>\n",
       "    <tr>\n",
       "      <th>25%</th>\n",
       "      <td>2.020093e+07</td>\n",
       "      <td>3.019688e+07</td>\n",
       "      <td>26.000000</td>\n",
       "      <td>10.000000</td>\n",
       "      <td>0.700000</td>\n",
       "      <td>1180.000000</td>\n",
       "      <td>6.119930e+05</td>\n",
       "      <td>2.020110e+07</td>\n",
       "      <td>6.690000e+02</td>\n",
       "    </tr>\n",
       "    <tr>\n",
       "      <th>50%</th>\n",
       "      <td>2.020113e+07</td>\n",
       "      <td>3.020524e+07</td>\n",
       "      <td>30.000000</td>\n",
       "      <td>15.000000</td>\n",
       "      <td>1.500000</td>\n",
       "      <td>1250.000000</td>\n",
       "      <td>6.406650e+05</td>\n",
       "      <td>2.021010e+07</td>\n",
       "      <td>8.120000e+02</td>\n",
       "    </tr>\n",
       "    <tr>\n",
       "      <th>75%</th>\n",
       "      <td>2.021020e+07</td>\n",
       "      <td>3.028042e+07</td>\n",
       "      <td>78.000000</td>\n",
       "      <td>41.000000</td>\n",
       "      <td>3.000000</td>\n",
       "      <td>1500.000000</td>\n",
       "      <td>1.332077e+09</td>\n",
       "      <td>2.021040e+07</td>\n",
       "      <td>9.530000e+02</td>\n",
       "    </tr>\n",
       "    <tr>\n",
       "      <th>max</th>\n",
       "      <td>2.021040e+07</td>\n",
       "      <td>2.147484e+09</td>\n",
       "      <td>113.000000</td>\n",
       "      <td>99.000000</td>\n",
       "      <td>2500.000000</td>\n",
       "      <td>2990.000000</td>\n",
       "      <td>1.722208e+09</td>\n",
       "      <td>3.031010e+07</td>\n",
       "      <td>1.000010e+08</td>\n",
       "    </tr>\n",
       "  </tbody>\n",
       "</table>\n",
       "</div>"
      ],
      "text/plain": [
       "          item_date      customer        country    application  \\\n",
       "count  1.816720e+05  1.816720e+05  181645.000000  181649.000000   \n",
       "mean   2.020459e+07  3.051221e+07      44.893022      25.615809   \n",
       "std    4.551119e+03  2.433382e+07      24.404214      17.754175   \n",
       "min    1.995000e+07  1.245800e+04      25.000000       2.000000   \n",
       "25%    2.020093e+07  3.019688e+07      26.000000      10.000000   \n",
       "50%    2.020113e+07  3.020524e+07      30.000000      15.000000   \n",
       "75%    2.021020e+07  3.028042e+07      78.000000      41.000000   \n",
       "max    2.021040e+07  2.147484e+09     113.000000      99.000000   \n",
       "\n",
       "           thickness          width   product_ref  delivery date  \\\n",
       "count  181672.000000  181673.000000  1.816730e+05   1.816720e+05   \n",
       "mean        2.564827    1295.286724  4.739679e+08   2.020738e+07   \n",
       "std         6.572321     261.631754  7.175101e+08   2.411059e+04   \n",
       "min         0.180000       1.000000  6.117280e+05   2.019040e+07   \n",
       "25%         0.700000    1180.000000  6.119930e+05   2.020110e+07   \n",
       "50%         1.500000    1250.000000  6.406650e+05   2.021010e+07   \n",
       "75%         3.000000    1500.000000  1.332077e+09   2.021040e+07   \n",
       "max      2500.000000    2990.000000  1.722208e+09   3.031010e+07   \n",
       "\n",
       "       selling_price  \n",
       "count   1.816720e+05  \n",
       "mean    1.918036e+03  \n",
       "std     3.317956e+05  \n",
       "min    -1.160000e+03  \n",
       "25%     6.690000e+02  \n",
       "50%     8.120000e+02  \n",
       "75%     9.530000e+02  \n",
       "max     1.000010e+08  "
      ]
     },
     "execution_count": 7,
     "metadata": {},
     "output_type": "execute_result"
    }
   ],
   "source": [
    "sample.describe()"
   ]
  },
  {
   "cell_type": "code",
   "execution_count": 8,
   "metadata": {},
   "outputs": [
    {
     "data": {
      "text/plain": [
       "id                   2\n",
       "item_date            1\n",
       "quantity tons        0\n",
       "customer             1\n",
       "country             28\n",
       "status               2\n",
       "item type            0\n",
       "application         24\n",
       "thickness            1\n",
       "width                0\n",
       "material_ref     77919\n",
       "product_ref          0\n",
       "delivery date        1\n",
       "selling_price        1\n",
       "dtype: int64"
      ]
     },
     "execution_count": 8,
     "metadata": {},
     "output_type": "execute_result"
    }
   ],
   "source": [
    "sample.isnull().sum()"
   ]
  },
  {
   "cell_type": "code",
   "execution_count": 21,
   "metadata": {},
   "outputs": [],
   "source": [
    "sample.drop(columns=[\"id\",\"material_ref\"],inplace=True)\n"
   ]
  },
  {
   "cell_type": "code",
   "execution_count": 9,
   "metadata": {},
   "outputs": [
    {
     "data": {
      "text/plain": [
       "item_date         2\n",
       "quantity tons     5\n",
       "customer          1\n",
       "country          28\n",
       "status            2\n",
       "item type         0\n",
       "application      24\n",
       "thickness         1\n",
       "width             0\n",
       "product_ref       0\n",
       "delivery date     2\n",
       "selling_price     8\n",
       "dtype: int64"
      ]
     },
     "execution_count": 9,
     "metadata": {},
     "output_type": "execute_result"
    }
   ],
   "source": [
    "sample.isnull().sum()"
   ]
  },
  {
   "cell_type": "code",
   "execution_count": 10,
   "metadata": {},
   "outputs": [
    {
     "data": {
      "text/plain": [
       "(181673, 12)"
      ]
     },
     "execution_count": 10,
     "metadata": {},
     "output_type": "execute_result"
    }
   ],
   "source": [
    "sample.shape"
   ]
  },
  {
   "cell_type": "code",
   "execution_count": 11,
   "metadata": {},
   "outputs": [
    {
     "data": {
      "text/plain": [
       "Index(['item_date', 'quantity tons', 'customer', 'country', 'status',\n",
       "       'item type', 'application', 'thickness', 'width', 'product_ref',\n",
       "       'delivery date', 'selling_price'],\n",
       "      dtype='object')"
      ]
     },
     "execution_count": 11,
     "metadata": {},
     "output_type": "execute_result"
    }
   ],
   "source": [
    "sample.columns"
   ]
  },
  {
   "cell_type": "code",
   "execution_count": 12,
   "metadata": {},
   "outputs": [
    {
     "data": {
      "text/html": [
       "<div>\n",
       "<style scoped>\n",
       "    .dataframe tbody tr th:only-of-type {\n",
       "        vertical-align: middle;\n",
       "    }\n",
       "\n",
       "    .dataframe tbody tr th {\n",
       "        vertical-align: top;\n",
       "    }\n",
       "\n",
       "    .dataframe thead th {\n",
       "        text-align: right;\n",
       "    }\n",
       "</style>\n",
       "<table border=\"1\" class=\"dataframe\">\n",
       "  <thead>\n",
       "    <tr style=\"text-align: right;\">\n",
       "      <th></th>\n",
       "      <th>item_date</th>\n",
       "      <th>quantity tons</th>\n",
       "      <th>customer</th>\n",
       "      <th>country</th>\n",
       "      <th>status</th>\n",
       "      <th>item type</th>\n",
       "      <th>application</th>\n",
       "      <th>thickness</th>\n",
       "      <th>width</th>\n",
       "      <th>product_ref</th>\n",
       "      <th>delivery date</th>\n",
       "      <th>selling_price</th>\n",
       "    </tr>\n",
       "  </thead>\n",
       "  <tbody>\n",
       "    <tr>\n",
       "      <th>0</th>\n",
       "      <td>2021-01-01</td>\n",
       "      <td>54.151139</td>\n",
       "      <td>30156308.0</td>\n",
       "      <td>28.0</td>\n",
       "      <td>Won</td>\n",
       "      <td>W</td>\n",
       "      <td>10.0</td>\n",
       "      <td>2.00</td>\n",
       "      <td>1500.0</td>\n",
       "      <td>1670798778</td>\n",
       "      <td>2021-01-01</td>\n",
       "      <td>854.00</td>\n",
       "    </tr>\n",
       "    <tr>\n",
       "      <th>1</th>\n",
       "      <td>2021-01-01</td>\n",
       "      <td>768.024839</td>\n",
       "      <td>30202938.0</td>\n",
       "      <td>25.0</td>\n",
       "      <td>Won</td>\n",
       "      <td>W</td>\n",
       "      <td>41.0</td>\n",
       "      <td>0.80</td>\n",
       "      <td>1210.0</td>\n",
       "      <td>1668701718</td>\n",
       "      <td>2021-01-01</td>\n",
       "      <td>1047.00</td>\n",
       "    </tr>\n",
       "    <tr>\n",
       "      <th>2</th>\n",
       "      <td>2021-01-01</td>\n",
       "      <td>386.127949</td>\n",
       "      <td>30153963.0</td>\n",
       "      <td>30.0</td>\n",
       "      <td>Won</td>\n",
       "      <td>WI</td>\n",
       "      <td>28.0</td>\n",
       "      <td>0.38</td>\n",
       "      <td>952.0</td>\n",
       "      <td>628377</td>\n",
       "      <td>2021-01-01</td>\n",
       "      <td>644.33</td>\n",
       "    </tr>\n",
       "    <tr>\n",
       "      <th>3</th>\n",
       "      <td>2021-01-01</td>\n",
       "      <td>202.411065</td>\n",
       "      <td>30349574.0</td>\n",
       "      <td>32.0</td>\n",
       "      <td>Won</td>\n",
       "      <td>S</td>\n",
       "      <td>59.0</td>\n",
       "      <td>2.30</td>\n",
       "      <td>1317.0</td>\n",
       "      <td>1668701718</td>\n",
       "      <td>2021-01-01</td>\n",
       "      <td>768.00</td>\n",
       "    </tr>\n",
       "    <tr>\n",
       "      <th>4</th>\n",
       "      <td>2021-01-01</td>\n",
       "      <td>785.526262</td>\n",
       "      <td>30211560.0</td>\n",
       "      <td>28.0</td>\n",
       "      <td>Won</td>\n",
       "      <td>W</td>\n",
       "      <td>10.0</td>\n",
       "      <td>4.00</td>\n",
       "      <td>2000.0</td>\n",
       "      <td>640665</td>\n",
       "      <td>2021-01-01</td>\n",
       "      <td>577.00</td>\n",
       "    </tr>\n",
       "    <tr>\n",
       "      <th>...</th>\n",
       "      <td>...</td>\n",
       "      <td>...</td>\n",
       "      <td>...</td>\n",
       "      <td>...</td>\n",
       "      <td>...</td>\n",
       "      <td>...</td>\n",
       "      <td>...</td>\n",
       "      <td>...</td>\n",
       "      <td>...</td>\n",
       "      <td>...</td>\n",
       "      <td>...</td>\n",
       "      <td>...</td>\n",
       "    </tr>\n",
       "    <tr>\n",
       "      <th>181668</th>\n",
       "      <td>2020-01-02</td>\n",
       "      <td>102.482422</td>\n",
       "      <td>30200854.0</td>\n",
       "      <td>25.0</td>\n",
       "      <td>Won</td>\n",
       "      <td>W</td>\n",
       "      <td>41.0</td>\n",
       "      <td>0.96</td>\n",
       "      <td>1220.0</td>\n",
       "      <td>164141591</td>\n",
       "      <td>2020-01-01</td>\n",
       "      <td>591.00</td>\n",
       "    </tr>\n",
       "    <tr>\n",
       "      <th>181669</th>\n",
       "      <td>2020-01-02</td>\n",
       "      <td>208.086469</td>\n",
       "      <td>30200854.0</td>\n",
       "      <td>25.0</td>\n",
       "      <td>Won</td>\n",
       "      <td>W</td>\n",
       "      <td>41.0</td>\n",
       "      <td>0.95</td>\n",
       "      <td>1500.0</td>\n",
       "      <td>164141591</td>\n",
       "      <td>2020-01-01</td>\n",
       "      <td>589.00</td>\n",
       "    </tr>\n",
       "    <tr>\n",
       "      <th>181670</th>\n",
       "      <td>2020-01-02</td>\n",
       "      <td>4.235594</td>\n",
       "      <td>30200854.0</td>\n",
       "      <td>25.0</td>\n",
       "      <td>Won</td>\n",
       "      <td>W</td>\n",
       "      <td>41.0</td>\n",
       "      <td>0.71</td>\n",
       "      <td>1250.0</td>\n",
       "      <td>164141591</td>\n",
       "      <td>2020-01-01</td>\n",
       "      <td>619.00</td>\n",
       "    </tr>\n",
       "    <tr>\n",
       "      <th>181671</th>\n",
       "      <td>2020-01-02</td>\n",
       "      <td>NaN</td>\n",
       "      <td>30200854.0</td>\n",
       "      <td>25.0</td>\n",
       "      <td>Won</td>\n",
       "      <td>W</td>\n",
       "      <td>41.0</td>\n",
       "      <td>0.85</td>\n",
       "      <td>1250.0</td>\n",
       "      <td>164141591</td>\n",
       "      <td>2020-01-01</td>\n",
       "      <td>601.00</td>\n",
       "    </tr>\n",
       "    <tr>\n",
       "      <th>181672</th>\n",
       "      <td>2020-01-02</td>\n",
       "      <td>406.686538</td>\n",
       "      <td>30200854.0</td>\n",
       "      <td>25.0</td>\n",
       "      <td>Won</td>\n",
       "      <td>W</td>\n",
       "      <td>41.0</td>\n",
       "      <td>0.71</td>\n",
       "      <td>1240.0</td>\n",
       "      <td>164141591</td>\n",
       "      <td>2020-01-01</td>\n",
       "      <td>607.00</td>\n",
       "    </tr>\n",
       "  </tbody>\n",
       "</table>\n",
       "<p>181673 rows × 12 columns</p>\n",
       "</div>"
      ],
      "text/plain": [
       "         item_date  quantity tons    customer  country status item type  \\\n",
       "0       2021-01-01      54.151139  30156308.0     28.0    Won         W   \n",
       "1       2021-01-01     768.024839  30202938.0     25.0    Won         W   \n",
       "2       2021-01-01     386.127949  30153963.0     30.0    Won        WI   \n",
       "3       2021-01-01     202.411065  30349574.0     32.0    Won         S   \n",
       "4       2021-01-01     785.526262  30211560.0     28.0    Won         W   \n",
       "...            ...            ...         ...      ...    ...       ...   \n",
       "181668  2020-01-02     102.482422  30200854.0     25.0    Won         W   \n",
       "181669  2020-01-02     208.086469  30200854.0     25.0    Won         W   \n",
       "181670  2020-01-02       4.235594  30200854.0     25.0    Won         W   \n",
       "181671  2020-01-02            NaN  30200854.0     25.0    Won         W   \n",
       "181672  2020-01-02     406.686538  30200854.0     25.0    Won         W   \n",
       "\n",
       "        application  thickness   width  product_ref delivery date  \\\n",
       "0              10.0       2.00  1500.0   1670798778    2021-01-01   \n",
       "1              41.0       0.80  1210.0   1668701718    2021-01-01   \n",
       "2              28.0       0.38   952.0       628377    2021-01-01   \n",
       "3              59.0       2.30  1317.0   1668701718    2021-01-01   \n",
       "4              10.0       4.00  2000.0       640665    2021-01-01   \n",
       "...             ...        ...     ...          ...           ...   \n",
       "181668         41.0       0.96  1220.0    164141591    2020-01-01   \n",
       "181669         41.0       0.95  1500.0    164141591    2020-01-01   \n",
       "181670         41.0       0.71  1250.0    164141591    2020-01-01   \n",
       "181671         41.0       0.85  1250.0    164141591    2020-01-01   \n",
       "181672         41.0       0.71  1240.0    164141591    2020-01-01   \n",
       "\n",
       "        selling_price  \n",
       "0              854.00  \n",
       "1             1047.00  \n",
       "2              644.33  \n",
       "3              768.00  \n",
       "4              577.00  \n",
       "...               ...  \n",
       "181668         591.00  \n",
       "181669         589.00  \n",
       "181670         619.00  \n",
       "181671         601.00  \n",
       "181672         607.00  \n",
       "\n",
       "[181673 rows x 12 columns]"
      ]
     },
     "execution_count": 12,
     "metadata": {},
     "output_type": "execute_result"
    }
   ],
   "source": [
    "sample"
   ]
  },
  {
   "cell_type": "code",
   "execution_count": 13,
   "metadata": {},
   "outputs": [
    {
     "data": {
      "text/plain": [
       "Index(['item_date', 'quantity tons', 'customer', 'country', 'status',\n",
       "       'item type', 'application', 'thickness', 'width', 'product_ref',\n",
       "       'delivery date', 'selling_price'],\n",
       "      dtype='object')"
      ]
     },
     "execution_count": 13,
     "metadata": {},
     "output_type": "execute_result"
    }
   ],
   "source": [
    "sample.columns"
   ]
  },
  {
   "cell_type": "code",
   "execution_count": 22,
   "metadata": {},
   "outputs": [],
   "source": [
    "sample['item_date']=pd.to_datetime(sample['item_date'],format='%Y%M%d',errors='coerce').dt.date\n",
    "sample['quantity tons']=pd.to_numeric(sample['quantity tons'],errors='coerce')\n",
    "sample['customer']=pd.to_numeric(sample['customer'],errors='coerce')\n",
    "sample['country']=pd.to_numeric(sample['country'],errors='coerce')\n",
    "sample['application']=pd.to_numeric(sample['application'],errors='coerce')\n",
    "sample['thickness']=pd.to_numeric(sample['thickness'],errors='coerce')\n",
    "sample['width']=pd.to_numeric(sample['width'],errors='coerce')\n",
    "sample['product_ref']=pd.to_numeric(sample['product_ref'],errors='coerce')\n",
    "sample['delivery date']=pd.to_datetime(sample['delivery date'],format='%Y%M%d',errors='coerce').dt.date\n",
    "sample['selling_price']=pd.to_numeric(sample['selling_price'],errors='coerce')"
   ]
  },
  {
   "cell_type": "code",
   "execution_count": 15,
   "metadata": {},
   "outputs": [
    {
     "data": {
      "text/plain": [
       "item_date         object\n",
       "quantity tons    float64\n",
       "customer         float64\n",
       "country          float64\n",
       "status            object\n",
       "item type         object\n",
       "application      float64\n",
       "thickness        float64\n",
       "width            float64\n",
       "product_ref        int64\n",
       "delivery date     object\n",
       "selling_price    float64\n",
       "dtype: object"
      ]
     },
     "execution_count": 15,
     "metadata": {},
     "output_type": "execute_result"
    }
   ],
   "source": [
    "sample.dtypes"
   ]
  },
  {
   "cell_type": "code",
   "execution_count": 23,
   "metadata": {},
   "outputs": [],
   "source": [
    "#converting the negative values into the null values\n",
    "sample[\"quantity tons\"]= sample[\"quantity tons\"].apply(lambda x: np.nan if x<=0 else x)\n",
    "sample[\"selling_price\"]= sample[\"selling_price\"].apply(lambda x: np.nan if x<=0 else x)"
   ]
  },
  {
   "cell_type": "code",
   "execution_count": 50,
   "metadata": {},
   "outputs": [
    {
     "data": {
      "text/plain": [
       "(1e-05, 1e-05)"
      ]
     },
     "execution_count": 50,
     "metadata": {},
     "output_type": "execute_result"
    }
   ],
   "source": [
    "sample[\"quantity tons\"].min(),sample[\"quantity tons\"].min()"
   ]
  },
  {
   "cell_type": "code",
   "execution_count": 7,
   "metadata": {},
   "outputs": [
    {
     "data": {
      "text/plain": [
       "id                   2\n",
       "item_date            2\n",
       "quantity tons        5\n",
       "customer             1\n",
       "country             28\n",
       "status               2\n",
       "item type            0\n",
       "application         24\n",
       "thickness            1\n",
       "width                0\n",
       "material_ref     77919\n",
       "product_ref          0\n",
       "delivery date        2\n",
       "selling_price        8\n",
       "dtype: int64"
      ]
     },
     "execution_count": 7,
     "metadata": {},
     "output_type": "execute_result"
    }
   ],
   "source": [
    "sample.isnull().sum()"
   ]
  },
  {
   "cell_type": "code",
   "execution_count": 24,
   "metadata": {},
   "outputs": [],
   "source": [
    "sample[\"status\"].fillna(sample[\"status\"].mode().iloc[0],inplace=True)\n",
    "sample[\"item_date\"]. fillna(sample[\"item_date\"].mode().iloc[0],inplace=True)\n",
    "sample[\"delivery date\"]. fillna(sample[\"delivery date\"].mode().iloc[0],inplace=True)"
   ]
  },
  {
   "cell_type": "code",
   "execution_count": 25,
   "metadata": {},
   "outputs": [],
   "source": [
    "sample[\"quantity tons\"].fillna(sample[\"quantity tons\"].median(),inplace=True)\n",
    "sample[\"customer\"].fillna(sample[\"customer\"].median(),inplace=True)\n",
    "sample[\"country\"].fillna(sample[\"country\"].median(),inplace=True)\n",
    "sample[\"application\"].fillna(sample[\"application\"].median(),inplace=True)\n",
    "sample[\"thickness\"].fillna(sample[\"thickness\"].median(),inplace=True)\n",
    "sample[\"selling_price\"].fillna(sample[\"selling_price\"].median(),inplace=True)"
   ]
  },
  {
   "cell_type": "code",
   "execution_count": 21,
   "metadata": {},
   "outputs": [
    {
     "data": {
      "text/plain": [
       "item_date        0\n",
       "quantity tons    0\n",
       "customer         0\n",
       "country          0\n",
       "status           0\n",
       "item type        0\n",
       "application      0\n",
       "thickness        0\n",
       "width            0\n",
       "product_ref      0\n",
       "delivery date    0\n",
       "selling_price    0\n",
       "dtype: int64"
      ]
     },
     "execution_count": 21,
     "metadata": {},
     "output_type": "execute_result"
    }
   ],
   "source": [
    "sample.isnull().sum()"
   ]
  },
  {
   "cell_type": "code",
   "execution_count": 26,
   "metadata": {},
   "outputs": [],
   "source": [
    "sample_1=sample.copy()"
   ]
  },
  {
   "cell_type": "code",
   "execution_count": 18,
   "metadata": {},
   "outputs": [
    {
     "data": {
      "text/html": [
       "<div>\n",
       "<style scoped>\n",
       "    .dataframe tbody tr th:only-of-type {\n",
       "        vertical-align: middle;\n",
       "    }\n",
       "\n",
       "    .dataframe tbody tr th {\n",
       "        vertical-align: top;\n",
       "    }\n",
       "\n",
       "    .dataframe thead th {\n",
       "        text-align: right;\n",
       "    }\n",
       "</style>\n",
       "<table border=\"1\" class=\"dataframe\">\n",
       "  <thead>\n",
       "    <tr style=\"text-align: right;\">\n",
       "      <th></th>\n",
       "      <th>item_date</th>\n",
       "      <th>quantity tons</th>\n",
       "      <th>customer</th>\n",
       "      <th>country</th>\n",
       "      <th>status</th>\n",
       "      <th>item type</th>\n",
       "      <th>application</th>\n",
       "      <th>thickness</th>\n",
       "      <th>width</th>\n",
       "      <th>product_ref</th>\n",
       "      <th>delivery date</th>\n",
       "      <th>selling_price</th>\n",
       "    </tr>\n",
       "  </thead>\n",
       "  <tbody>\n",
       "    <tr>\n",
       "      <th>0</th>\n",
       "      <td>2021-01-01</td>\n",
       "      <td>54.151139</td>\n",
       "      <td>30156308.0</td>\n",
       "      <td>28.0</td>\n",
       "      <td>Won</td>\n",
       "      <td>W</td>\n",
       "      <td>10.0</td>\n",
       "      <td>2.00</td>\n",
       "      <td>1500.0</td>\n",
       "      <td>1670798778</td>\n",
       "      <td>2021-01-01</td>\n",
       "      <td>854.00</td>\n",
       "    </tr>\n",
       "    <tr>\n",
       "      <th>1</th>\n",
       "      <td>2021-01-01</td>\n",
       "      <td>768.024839</td>\n",
       "      <td>30202938.0</td>\n",
       "      <td>25.0</td>\n",
       "      <td>Won</td>\n",
       "      <td>W</td>\n",
       "      <td>41.0</td>\n",
       "      <td>0.80</td>\n",
       "      <td>1210.0</td>\n",
       "      <td>1668701718</td>\n",
       "      <td>2021-01-01</td>\n",
       "      <td>1047.00</td>\n",
       "    </tr>\n",
       "    <tr>\n",
       "      <th>2</th>\n",
       "      <td>2021-01-01</td>\n",
       "      <td>386.127949</td>\n",
       "      <td>30153963.0</td>\n",
       "      <td>30.0</td>\n",
       "      <td>Won</td>\n",
       "      <td>WI</td>\n",
       "      <td>28.0</td>\n",
       "      <td>0.38</td>\n",
       "      <td>952.0</td>\n",
       "      <td>628377</td>\n",
       "      <td>2021-01-01</td>\n",
       "      <td>644.33</td>\n",
       "    </tr>\n",
       "    <tr>\n",
       "      <th>3</th>\n",
       "      <td>2021-01-01</td>\n",
       "      <td>202.411065</td>\n",
       "      <td>30349574.0</td>\n",
       "      <td>32.0</td>\n",
       "      <td>Won</td>\n",
       "      <td>S</td>\n",
       "      <td>59.0</td>\n",
       "      <td>2.30</td>\n",
       "      <td>1317.0</td>\n",
       "      <td>1668701718</td>\n",
       "      <td>2021-01-01</td>\n",
       "      <td>768.00</td>\n",
       "    </tr>\n",
       "    <tr>\n",
       "      <th>4</th>\n",
       "      <td>2021-01-01</td>\n",
       "      <td>785.526262</td>\n",
       "      <td>30211560.0</td>\n",
       "      <td>28.0</td>\n",
       "      <td>Won</td>\n",
       "      <td>W</td>\n",
       "      <td>10.0</td>\n",
       "      <td>4.00</td>\n",
       "      <td>2000.0</td>\n",
       "      <td>640665</td>\n",
       "      <td>2021-01-01</td>\n",
       "      <td>577.00</td>\n",
       "    </tr>\n",
       "    <tr>\n",
       "      <th>...</th>\n",
       "      <td>...</td>\n",
       "      <td>...</td>\n",
       "      <td>...</td>\n",
       "      <td>...</td>\n",
       "      <td>...</td>\n",
       "      <td>...</td>\n",
       "      <td>...</td>\n",
       "      <td>...</td>\n",
       "      <td>...</td>\n",
       "      <td>...</td>\n",
       "      <td>...</td>\n",
       "      <td>...</td>\n",
       "    </tr>\n",
       "    <tr>\n",
       "      <th>181668</th>\n",
       "      <td>2020-01-02</td>\n",
       "      <td>102.482422</td>\n",
       "      <td>30200854.0</td>\n",
       "      <td>25.0</td>\n",
       "      <td>Won</td>\n",
       "      <td>W</td>\n",
       "      <td>41.0</td>\n",
       "      <td>0.96</td>\n",
       "      <td>1220.0</td>\n",
       "      <td>164141591</td>\n",
       "      <td>2020-01-01</td>\n",
       "      <td>591.00</td>\n",
       "    </tr>\n",
       "    <tr>\n",
       "      <th>181669</th>\n",
       "      <td>2020-01-02</td>\n",
       "      <td>208.086469</td>\n",
       "      <td>30200854.0</td>\n",
       "      <td>25.0</td>\n",
       "      <td>Won</td>\n",
       "      <td>W</td>\n",
       "      <td>41.0</td>\n",
       "      <td>0.95</td>\n",
       "      <td>1500.0</td>\n",
       "      <td>164141591</td>\n",
       "      <td>2020-01-01</td>\n",
       "      <td>589.00</td>\n",
       "    </tr>\n",
       "    <tr>\n",
       "      <th>181670</th>\n",
       "      <td>2020-01-02</td>\n",
       "      <td>4.235594</td>\n",
       "      <td>30200854.0</td>\n",
       "      <td>25.0</td>\n",
       "      <td>Won</td>\n",
       "      <td>W</td>\n",
       "      <td>41.0</td>\n",
       "      <td>0.71</td>\n",
       "      <td>1250.0</td>\n",
       "      <td>164141591</td>\n",
       "      <td>2020-01-01</td>\n",
       "      <td>619.00</td>\n",
       "    </tr>\n",
       "    <tr>\n",
       "      <th>181671</th>\n",
       "      <td>2020-01-02</td>\n",
       "      <td>30.365013</td>\n",
       "      <td>30200854.0</td>\n",
       "      <td>25.0</td>\n",
       "      <td>Won</td>\n",
       "      <td>W</td>\n",
       "      <td>41.0</td>\n",
       "      <td>0.85</td>\n",
       "      <td>1250.0</td>\n",
       "      <td>164141591</td>\n",
       "      <td>2020-01-01</td>\n",
       "      <td>601.00</td>\n",
       "    </tr>\n",
       "    <tr>\n",
       "      <th>181672</th>\n",
       "      <td>2020-01-02</td>\n",
       "      <td>406.686538</td>\n",
       "      <td>30200854.0</td>\n",
       "      <td>25.0</td>\n",
       "      <td>Won</td>\n",
       "      <td>W</td>\n",
       "      <td>41.0</td>\n",
       "      <td>0.71</td>\n",
       "      <td>1240.0</td>\n",
       "      <td>164141591</td>\n",
       "      <td>2020-01-01</td>\n",
       "      <td>607.00</td>\n",
       "    </tr>\n",
       "  </tbody>\n",
       "</table>\n",
       "<p>181673 rows × 12 columns</p>\n",
       "</div>"
      ],
      "text/plain": [
       "         item_date  quantity tons    customer  country status item type  \\\n",
       "0       2021-01-01      54.151139  30156308.0     28.0    Won         W   \n",
       "1       2021-01-01     768.024839  30202938.0     25.0    Won         W   \n",
       "2       2021-01-01     386.127949  30153963.0     30.0    Won        WI   \n",
       "3       2021-01-01     202.411065  30349574.0     32.0    Won         S   \n",
       "4       2021-01-01     785.526262  30211560.0     28.0    Won         W   \n",
       "...            ...            ...         ...      ...    ...       ...   \n",
       "181668  2020-01-02     102.482422  30200854.0     25.0    Won         W   \n",
       "181669  2020-01-02     208.086469  30200854.0     25.0    Won         W   \n",
       "181670  2020-01-02       4.235594  30200854.0     25.0    Won         W   \n",
       "181671  2020-01-02      30.365013  30200854.0     25.0    Won         W   \n",
       "181672  2020-01-02     406.686538  30200854.0     25.0    Won         W   \n",
       "\n",
       "        application  thickness   width  product_ref delivery date  \\\n",
       "0              10.0       2.00  1500.0   1670798778    2021-01-01   \n",
       "1              41.0       0.80  1210.0   1668701718    2021-01-01   \n",
       "2              28.0       0.38   952.0       628377    2021-01-01   \n",
       "3              59.0       2.30  1317.0   1668701718    2021-01-01   \n",
       "4              10.0       4.00  2000.0       640665    2021-01-01   \n",
       "...             ...        ...     ...          ...           ...   \n",
       "181668         41.0       0.96  1220.0    164141591    2020-01-01   \n",
       "181669         41.0       0.95  1500.0    164141591    2020-01-01   \n",
       "181670         41.0       0.71  1250.0    164141591    2020-01-01   \n",
       "181671         41.0       0.85  1250.0    164141591    2020-01-01   \n",
       "181672         41.0       0.71  1240.0    164141591    2020-01-01   \n",
       "\n",
       "        selling_price  \n",
       "0              854.00  \n",
       "1             1047.00  \n",
       "2              644.33  \n",
       "3              768.00  \n",
       "4              577.00  \n",
       "...               ...  \n",
       "181668         591.00  \n",
       "181669         589.00  \n",
       "181670         619.00  \n",
       "181671         601.00  \n",
       "181672         607.00  \n",
       "\n",
       "[181673 rows x 12 columns]"
      ]
     },
     "execution_count": 18,
     "metadata": {},
     "output_type": "execute_result"
    }
   ],
   "source": [
    "sample_1"
   ]
  },
  {
   "cell_type": "code",
   "execution_count": 24,
   "metadata": {},
   "outputs": [
    {
     "name": "stderr",
     "output_type": "stream",
     "text": [
      "C:\\Users\\halee\\AppData\\Local\\Temp\\ipykernel_4128\\2745190330.py:3: UserWarning: \n",
      "\n",
      "`distplot` is a deprecated function and will be removed in seaborn v0.14.0.\n",
      "\n",
      "Please adapt your code to use either `displot` (a figure-level function with\n",
      "similar flexibility) or `histplot` (an axes-level function for histograms).\n",
      "\n",
      "For a guide to updating your code to use the new functions, please see\n",
      "https://gist.github.com/mwaskom/de44147ed2974457ad6372750bbe5751\n",
      "\n",
      "  sns.distplot(sample_1[i])\n"
     ]
    },
    {
     "data": {
      "image/png": "[encoded data removed]",
      "text/plain": [
       "<Figure size 640x480 with 1 Axes>"
      ]
     },
     "metadata": {},
     "output_type": "display_data"
    },
    {
     "name": "stderr",
     "output_type": "stream",
     "text": [
      "C:\\Users\\halee\\AppData\\Local\\Temp\\ipykernel_4128\\2745190330.py:3: UserWarning: \n",
      "\n",
      "`distplot` is a deprecated function and will be removed in seaborn v0.14.0.\n",
      "\n",
      "Please adapt your code to use either `displot` (a figure-level function with\n",
      "similar flexibility) or `histplot` (an axes-level function for histograms).\n",
      "\n",
      "For a guide to updating your code to use the new functions, please see\n",
      "https://gist.github.com/mwaskom/de44147ed2974457ad6372750bbe5751\n",
      "\n",
      "  sns.distplot(sample_1[i])\n"
     ]
    },
    {
     "data": {
      "image/png": "[encoded data removed]",
      "text/plain": [
       "<Figure size 640x480 with 1 Axes>"
      ]
     },
     "metadata": {},
     "output_type": "display_data"
    },
    {
     "name": "stderr",
     "output_type": "stream",
     "text": [
      "C:\\Users\\halee\\AppData\\Local\\Temp\\ipykernel_4128\\2745190330.py:3: UserWarning: \n",
      "\n",
      "`distplot` is a deprecated function and will be removed in seaborn v0.14.0.\n",
      "\n",
      "Please adapt your code to use either `displot` (a figure-level function with\n",
      "similar flexibility) or `histplot` (an axes-level function for histograms).\n",
      "\n",
      "For a guide to updating your code to use the new functions, please see\n",
      "https://gist.github.com/mwaskom/de44147ed2974457ad6372750bbe5751\n",
      "\n",
      "  sns.distplot(sample_1[i])\n"
     ]
    },
    {
     "data": {
      "image/png": "[encoded data removed]",
      "text/plain": [
       "<Figure size 640x480 with 1 Axes>"
      ]
     },
     "metadata": {},
     "output_type": "display_data"
    },
    {
     "name": "stderr",
     "output_type": "stream",
     "text": [
      "C:\\Users\\halee\\AppData\\Local\\Temp\\ipykernel_4128\\2745190330.py:3: UserWarning: \n",
      "\n",
      "`distplot` is a deprecated function and will be removed in seaborn v0.14.0.\n",
      "\n",
      "Please adapt your code to use either `displot` (a figure-level function with\n",
      "similar flexibility) or `histplot` (an axes-level function for histograms).\n",
      "\n",
      "For a guide to updating your code to use the new functions, please see\n",
      "https://gist.github.com/mwaskom/de44147ed2974457ad6372750bbe5751\n",
      "\n",
      "  sns.distplot(sample_1[i])\n"
     ]
    },
    {
     "data": {
      "image/png": "[encoded data removed]",
      "text/plain": [
       "<Figure size 640x480 with 1 Axes>"
      ]
     },
     "metadata": {},
     "output_type": "display_data"
    },
    {
     "name": "stderr",
     "output_type": "stream",
     "text": [
      "C:\\Users\\halee\\AppData\\Local\\Temp\\ipykernel_4128\\2745190330.py:3: UserWarning: \n",
      "\n",
      "`distplot` is a deprecated function and will be removed in seaborn v0.14.0.\n",
      "\n",
      "Please adapt your code to use either `displot` (a figure-level function with\n",
      "similar flexibility) or `histplot` (an axes-level function for histograms).\n",
      "\n",
      "For a guide to updating your code to use the new functions, please see\n",
      "https://gist.github.com/mwaskom/de44147ed2974457ad6372750bbe5751\n",
      "\n",
      "  sns.distplot(sample_1[i])\n"
     ]
    },
    {
     "data": {
      "image/png": "[encoded data removed]",
      "text/plain": [
       "<Figure size 640x480 with 1 Axes>"
      ]
     },
     "metadata": {},
     "output_type": "display_data"
    },
    {
     "name": "stderr",
     "output_type": "stream",
     "text": [
      "C:\\Users\\halee\\AppData\\Local\\Temp\\ipykernel_4128\\2745190330.py:3: UserWarning: \n",
      "\n",
      "`distplot` is a deprecated function and will be removed in seaborn v0.14.0.\n",
      "\n",
      "Please adapt your code to use either `displot` (a figure-level function with\n",
      "similar flexibility) or `histplot` (an axes-level function for histograms).\n",
      "\n",
      "For a guide to updating your code to use the new functions, please see\n",
      "https://gist.github.com/mwaskom/de44147ed2974457ad6372750bbe5751\n",
      "\n",
      "  sns.distplot(sample_1[i])\n"
     ]
    },
    {
     "data": {
      "image/png": "[encoded data removed]",
      "text/plain": [
       "<Figure size 640x480 with 1 Axes>"
      ]
     },
     "metadata": {},
     "output_type": "display_data"
    }
   ],
   "source": [
    "a=['quantity tons','selling_price','application','thickness','width', 'country']\n",
    "for i in a:\n",
    "    sns.distplot(sample_1[i])\n",
    "    plt.title(i)\n",
    "    plt.show()"
   ]
  },
  {
   "cell_type": "markdown",
   "metadata": {},
   "source": [
    "# finding skewness value"
   ]
  },
  {
   "cell_type": "code",
   "execution_count": 26,
   "metadata": {},
   "outputs": [
    {
     "data": {
      "text/plain": [
       "424.68730994731504"
      ]
     },
     "execution_count": 26,
     "metadata": {},
     "output_type": "execute_result"
    }
   ],
   "source": [
    "sk_value_1=scipy.stats.skew(sample_1['quantity tons'], axis=0, bias=True)\n",
    "sk_value_1"
   ]
  },
  {
   "cell_type": "code",
   "execution_count": 27,
   "metadata": {},
   "outputs": [
    {
     "data": {
      "text/plain": [
       "0.7245583983073829"
      ]
     },
     "execution_count": 27,
     "metadata": {},
     "output_type": "execute_result"
    }
   ],
   "source": [
    "sk_value_2=scipy.stats.skew(sample_1['application'], axis=0, bias=True)\n",
    "sk_value_2"
   ]
  },
  {
   "cell_type": "code",
   "execution_count": 28,
   "metadata": {},
   "outputs": [
    {
     "data": {
      "text/plain": [
       "303.4450657126513"
      ]
     },
     "execution_count": 28,
     "metadata": {},
     "output_type": "execute_result"
    }
   ],
   "source": [
    "sk_value_3=scipy.stats.skew(sample_1['thickness'], axis=0, bias=True)\n",
    "sk_value_3"
   ]
  },
  {
   "cell_type": "code",
   "execution_count": 29,
   "metadata": {},
   "outputs": [
    {
     "data": {
      "text/plain": [
       "0.37459367901082125"
      ]
     },
     "execution_count": 29,
     "metadata": {},
     "output_type": "execute_result"
    }
   ],
   "source": [
    "sk_value_4=scipy.stats.skew(sample_1['width'], axis=0, bias=True)\n",
    "sk_value_4"
   ]
  },
  {
   "cell_type": "code",
   "execution_count": 30,
   "metadata": {},
   "outputs": [
    {
     "data": {
      "text/plain": [
       "301.38559971625915"
      ]
     },
     "execution_count": 30,
     "metadata": {},
     "output_type": "execute_result"
    }
   ],
   "source": [
    "sk_value_5=scipy.stats.skew(sample_1['selling_price'], axis=0, bias=True)\n",
    "sk_value_5"
   ]
  },
  {
   "cell_type": "code",
   "execution_count": 27,
   "metadata": {},
   "outputs": [],
   "source": [
    "#Log transformation\n",
    "\n",
    "sample_1[\"quantity_tons_log\"]= np.log(sample_1[\"quantity tons\"])\n",
    "sample_1[\"selling_price_log\"]= np.log(sample_1[\"selling_price\"])\n",
    "sample_1[\"thickness_log\"]= np.log(sample_1[\"thickness\"])"
   ]
  },
  {
   "cell_type": "code",
   "execution_count": 14,
   "metadata": {},
   "outputs": [
    {
     "name": "stderr",
     "output_type": "stream",
     "text": [
      "C:\\Users\\halee\\AppData\\Local\\Temp\\ipykernel_15088\\414488142.py:3: UserWarning: \n",
      "\n",
      "`distplot` is a deprecated function and will be removed in seaborn v0.14.0.\n",
      "\n",
      "Please adapt your code to use either `displot` (a figure-level function with\n",
      "similar flexibility) or `histplot` (an axes-level function for histograms).\n",
      "\n",
      "For a guide to updating your code to use the new functions, please see\n",
      "https://gist.github.com/mwaskom/de44147ed2974457ad6372750bbe5751\n",
      "\n",
      "  sns.distplot(sample_1[i])\n"
     ]
    },
    {
     "data": {
      "image/png": "[encoded data removed]",
      "text/plain": [
       "<Figure size 640x480 with 1 Axes>"
      ]
     },
     "metadata": {},
     "output_type": "display_data"
    },
    {
     "name": "stderr",
     "output_type": "stream",
     "text": [
      "C:\\Users\\halee\\AppData\\Local\\Temp\\ipykernel_15088\\414488142.py:3: UserWarning: \n",
      "\n",
      "`distplot` is a deprecated function and will be removed in seaborn v0.14.0.\n",
      "\n",
      "Please adapt your code to use either `displot` (a figure-level function with\n",
      "similar flexibility) or `histplot` (an axes-level function for histograms).\n",
      "\n",
      "For a guide to updating your code to use the new functions, please see\n",
      "https://gist.github.com/mwaskom/de44147ed2974457ad6372750bbe5751\n",
      "\n",
      "  sns.distplot(sample_1[i])\n"
     ]
    },
    {
     "data": {
      "image/png": "[encoded data removed]",
      "text/plain": [
       "<Figure size 640x480 with 1 Axes>"
      ]
     },
     "metadata": {},
     "output_type": "display_data"
    },
    {
     "name": "stderr",
     "output_type": "stream",
     "text": [
      "C:\\Users\\halee\\AppData\\Local\\Temp\\ipykernel_15088\\414488142.py:3: UserWarning: \n",
      "\n",
      "`distplot` is a deprecated function and will be removed in seaborn v0.14.0.\n",
      "\n",
      "Please adapt your code to use either `displot` (a figure-level function with\n",
      "similar flexibility) or `histplot` (an axes-level function for histograms).\n",
      "\n",
      "For a guide to updating your code to use the new functions, please see\n",
      "https://gist.github.com/mwaskom/de44147ed2974457ad6372750bbe5751\n",
      "\n",
      "  sns.distplot(sample_1[i])\n"
     ]
    },
    {
     "data": {
      "image/png": "[encoded data removed]",
      "text/plain": [
       "<Figure size 640x480 with 1 Axes>"
      ]
     },
     "metadata": {},
     "output_type": "display_data"
    }
   ],
   "source": [
    "b=[\"quantity_tons_log\",\"selling_price_log\",\"thickness_log\"]\n",
    "for i in b:\n",
    "    sns.distplot(sample_1[i])\n",
    "    plt.title(i)\n",
    "    plt.show()"
   ]
  },
  {
   "cell_type": "markdown",
   "metadata": {},
   "source": [
    "#Outliner detection"
   ]
  },
  {
   "cell_type": "code",
   "execution_count": 33,
   "metadata": {},
   "outputs": [],
   "source": [
    "def outlier(sample_1,column):\n",
    "  q1= sample_1[column].quantile(0.25)\n",
    "  q3= sample_1[column].quantile(0.75)\n",
    "\n",
    "  iqr= q3-q1\n",
    "\n",
    "  upper_threshold= q3 + (1.5*iqr)\n",
    "  lower_threshold= q1 - (1.5*iqr)\n",
    "\n",
    "  return upper_threshold,lower_threshold"
   ]
  },
  {
   "cell_type": "code",
   "execution_count": 34,
   "metadata": {},
   "outputs": [
    {
     "name": "stdout",
     "output_type": "stream",
     "text": [
      "(6.9247343237411325, -0.3223343794492468)\n",
      "(3.281543137578373, -2.5396057928489957)\n",
      "(7.390361168943161, 5.9750377948392694)\n",
      "(1980.0, 700.0)\n",
      "(87.5, -36.5)\n"
     ]
    }
   ],
   "source": [
    "column= ['quantity_tons_log', 'thickness_log','selling_price_log','width','application']\n",
    "for i in column:\n",
    "     print(outlier(sample_1,i))"
   ]
  },
  {
   "cell_type": "code",
   "execution_count": 35,
   "metadata": {},
   "outputs": [
    {
     "data": {
      "image/png": "[encoded data removed]",
      "text/plain": [
       "<Figure size 640x480 with 1 Axes>"
      ]
     },
     "metadata": {},
     "output_type": "display_data"
    },
    {
     "data": {
      "image/png": "[encoded data removed]",
      "text/plain": [
       "<Figure size 640x480 with 1 Axes>"
      ]
     },
     "metadata": {},
     "output_type": "display_data"
    },
    {
     "data": {
      "image/png": "[encoded data removed]",
      "text/plain": [
       "<Figure size 640x480 with 1 Axes>"
      ]
     },
     "metadata": {},
     "output_type": "display_data"
    },
    {
     "data": {
      "image/png": "[encoded data removed]",
      "text/plain": [
       "<Figure size 640x480 with 1 Axes>"
      ]
     },
     "metadata": {},
     "output_type": "display_data"
    },
    {
     "data": {
      "image/png": "[encoded data removed]",
      "text/plain": [
       "<Figure size 640x480 with 1 Axes>"
      ]
     },
     "metadata": {},
     "output_type": "display_data"
    }
   ],
   "source": [
    "for i in column:\n",
    "    plt.subplot(1,3,3)\n",
    "    sns.boxplot(x=sample_1[i])\n",
    "    plt.title(\"Box plot for\" + i)\n",
    "    plt.show()"
   ]
  },
  {
   "cell_type": "code",
   "execution_count": 36,
   "metadata": {},
   "outputs": [
    {
     "data": {
      "text/plain": [
       "<Axes: >"
      ]
     },
     "execution_count": 36,
     "metadata": {},
     "output_type": "execute_result"
    },
    {
     "data": {
      "image/png": "[encoded data removed]",
      "text/plain": [
       "<Figure size 640x480 with 2 Axes>"
      ]
     },
     "metadata": {},
     "output_type": "display_data"
    }
   ],
   "source": [
    "x=sample_1[['quantity tons','application','thickness','width','selling_price','country','customer','product_ref']].corr()\n",
    "sns.heatmap(x, annot=True, cmap=\"coolwarm\")"
   ]
  },
  {
   "cell_type": "code",
   "execution_count": 21,
   "metadata": {},
   "outputs": [
    {
     "data": {
      "text/plain": [
       "array(['Won', 'Draft', 'To be approved', 'Lost', 'Not lost for AM',\n",
       "       'Wonderful', 'Revised', 'Offered', 'Offerable'], dtype=object)"
      ]
     },
     "execution_count": 21,
     "metadata": {},
     "output_type": "execute_result"
    }
   ],
   "source": [
    "#encoding the data\n",
    "sample_1['status'].unique()"
   ]
  },
  {
   "cell_type": "code",
   "execution_count": 28,
   "metadata": {},
   "outputs": [
    {
     "data": {
      "text/plain": [
       "<181673x9 sparse matrix of type '<class 'numpy.float64'>'\n",
       "\twith 181673 stored elements in Compressed Sparse Row format>"
      ]
     },
     "execution_count": 28,
     "metadata": {},
     "output_type": "execute_result"
    }
   ],
   "source": [
    "encode_1=OneHotEncoder(handle_unknown='ignore')\n",
    "encode_1.fit_transform(sample_1[['status']])\n"
   ]
  },
  {
   "cell_type": "code",
   "execution_count": 29,
   "metadata": {},
   "outputs": [
    {
     "data": {
      "text/plain": [
       "array([[0., 0., 0., ..., 0., 1., 0.],\n",
       "       [0., 0., 0., ..., 0., 1., 0.],\n",
       "       [0., 0., 0., ..., 0., 1., 0.],\n",
       "       ...,\n",
       "       [0., 0., 0., ..., 0., 1., 0.],\n",
       "       [0., 0., 0., ..., 0., 1., 0.],\n",
       "       [0., 0., 0., ..., 0., 1., 0.]])"
      ]
     },
     "execution_count": 29,
     "metadata": {},
     "output_type": "execute_result"
    }
   ],
   "source": [
    "status_encode=encode_1.fit_transform(sample_1[['status']]).toarray()\n",
    "status_encode"
   ]
  },
  {
   "cell_type": "code",
   "execution_count": 127,
   "metadata": {},
   "outputs": [
    {
     "data": {
      "text/plain": [
       "array(['Won', 'Draft', 'To be approved', 'Lost', 'Not lost for AM',\n",
       "       'Wonderful', 'Revised', 'Offered', 'Offerable'], dtype=object)"
      ]
     },
     "execution_count": 127,
     "metadata": {},
     "output_type": "execute_result"
    }
   ],
   "source": [
    "#status_encode=OneHotEncoder(handle_unknown='ignore').fit_transform(sample_1[['status']]).toarray()"
   ]
  },
  {
   "cell_type": "code",
   "execution_count": 24,
   "metadata": {},
   "outputs": [
    {
     "data": {
      "text/plain": [
       "array(['Won', 'Draft', 'To be approved', 'Lost', 'Not lost for AM',\n",
       "       'Wonderful', 'Revised', 'Offered', 'Offerable'], dtype=object)"
      ]
     },
     "execution_count": 24,
     "metadata": {},
     "output_type": "execute_result"
    }
   ],
   "source": [
    "sample_1['status'].unique()"
   ]
  },
  {
   "cell_type": "code",
   "execution_count": 129,
   "metadata": {},
   "outputs": [],
   "source": [
    "#sample_1[\"status\"]= sample_1[\"status\"].map({'Won':1, 'Draft':2, 'To be approved':3, 'Lost':0, 'Not lost for AM':4,\n",
    "                                #'Wonderful':5, 'Revised':6, 'Offered':7, 'Offerable':8})\n",
    "#sample_1['status'].unique()"
   ]
  },
  {
   "cell_type": "code",
   "execution_count": 25,
   "metadata": {},
   "outputs": [
    {
     "data": {
      "text/plain": [
       "array(['W', 'WI', 'S', 'Others', 'PL', 'IPL', 'SLAWR'], dtype=object)"
      ]
     },
     "execution_count": 25,
     "metadata": {},
     "output_type": "execute_result"
    }
   ],
   "source": [
    "sample_1['item type'].unique()"
   ]
  },
  {
   "cell_type": "code",
   "execution_count": 30,
   "metadata": {},
   "outputs": [
    {
     "name": "stderr",
     "output_type": "stream",
     "text": [
      "c:\\Users\\halee\\anaconda3\\Lib\\site-packages\\sklearn\\preprocessing\\_label.py:114: DataConversionWarning: A column-vector y was passed when a 1d array was expected. Please change the shape of y to (n_samples, ), for example using ravel().\n",
      "  y = column_or_1d(y, warn=True)\n",
      "c:\\Users\\halee\\anaconda3\\Lib\\site-packages\\sklearn\\preprocessing\\_label.py:114: DataConversionWarning: A column-vector y was passed when a 1d array was expected. Please change the shape of y to (n_samples, ), for example using ravel().\n",
      "  y = column_or_1d(y, warn=True)\n"
     ]
    },
    {
     "data": {
      "text/plain": [
       "array([5, 5, 6, ..., 5, 5, 5])"
      ]
     },
     "execution_count": 30,
     "metadata": {},
     "output_type": "execute_result"
    }
   ],
   "source": [
    "encode_3=LabelEncoder()\n",
    "encode_3.fit_transform(sample_1[['item type']])\n",
    "item_s_encode=encode_3.fit_transform(sample_1[['item type']])\n",
    "item_s_encode\n"
   ]
  },
  {
   "cell_type": "code",
   "execution_count": 26,
   "metadata": {},
   "outputs": [],
   "source": [
    "#sample_1['item type']=LabelEncoder().fit_transform(sample_1[['item type']])"
   ]
  },
  {
   "cell_type": "code",
   "execution_count": 31,
   "metadata": {},
   "outputs": [
    {
     "data": {
      "text/plain": [
       "<181673x7 sparse matrix of type '<class 'numpy.float64'>'\n",
       "\twith 181673 stored elements in Compressed Sparse Row format>"
      ]
     },
     "execution_count": 31,
     "metadata": {},
     "output_type": "execute_result"
    }
   ],
   "source": [
    "encode_2=OneHotEncoder(handle_unknown='ignore')\n",
    "encode_2.fit_transform(sample_1[['item type']])"
   ]
  },
  {
   "cell_type": "code",
   "execution_count": 32,
   "metadata": {},
   "outputs": [],
   "source": [
    "itemtype_encode=encode_2.fit_transform(sample_1[['item type']]).toarray()"
   ]
  },
  {
   "cell_type": "code",
   "execution_count": null,
   "metadata": {},
   "outputs": [],
   "source": [
    "#itemtype_enco=OneHotEncoder(handle_unknown='ignore').fit_transform(sample_1[['item type']]).toarray()"
   ]
  },
  {
   "cell_type": "code",
   "execution_count": 29,
   "metadata": {},
   "outputs": [
    {
     "data": {
      "text/plain": [
       "array(['W', 'WI', 'S', 'Others', 'PL', 'IPL', 'SLAWR'], dtype=object)"
      ]
     },
     "execution_count": 29,
     "metadata": {},
     "output_type": "execute_result"
    }
   ],
   "source": [
    "sample_1['item type'].unique()"
   ]
  },
  {
   "cell_type": "code",
   "execution_count": 84,
   "metadata": {},
   "outputs": [
    {
     "data": {
      "text/plain": [
       "Index(['item_date', 'quantity tons', 'customer', 'country', 'status',\n",
       "       'item type', 'application', 'thickness', 'width', 'product_ref',\n",
       "       'delivery date', 'selling_price', 'quantity_tons_log',\n",
       "       'selling_price_log', 'thickness_log'],\n",
       "      dtype='object')"
      ]
     },
     "execution_count": 84,
     "metadata": {},
     "output_type": "execute_result"
    }
   ],
   "source": [
    "sample_1.columns"
   ]
  },
  {
   "cell_type": "code",
   "execution_count": 134,
   "metadata": {},
   "outputs": [],
   "source": [
    "sample_1.drop(columns=[\"selling_price\",\"thickness\",'quantity tons'],inplace=True)"
   ]
  },
  {
   "cell_type": "code",
   "execution_count": 47,
   "metadata": {},
   "outputs": [
    {
     "data": {
      "text/plain": [
       "array([ 28.,  25.,  30.,  32.,  38.,  78.,  27.,  77., 113.,  79.,  26.,\n",
       "        39.,  40.,  84.,  80., 107.,  89.])"
      ]
     },
     "execution_count": 47,
     "metadata": {},
     "output_type": "execute_result"
    }
   ],
   "source": [
    "sample_1['country'].unique()"
   ]
  },
  {
   "cell_type": "code",
   "execution_count": 252,
   "metadata": {},
   "outputs": [
    {
     "data": {
      "text/plain": [
       "array([10., 41., 28., 59., 15.,  4., 38., 56., 42., 26., 27., 19., 20.,\n",
       "       66., 29., 22., 40., 25., 67., 79.,  3., 99.,  2.,  5., 39., 69.,\n",
       "       70., 65., 58., 68.])"
      ]
     },
     "execution_count": 252,
     "metadata": {},
     "output_type": "execute_result"
    }
   ],
   "source": [
    "sample_1['application'].unique()"
   ]
  },
  {
   "cell_type": "code",
   "execution_count": 253,
   "metadata": {},
   "outputs": [
    {
     "data": {
      "text/plain": [
       "array([1670798778, 1668701718,     628377,     640665,     611993,\n",
       "       1668701376,  164141591, 1671863738, 1332077137,     640405,\n",
       "       1693867550, 1665572374, 1282007633, 1668701698,     628117,\n",
       "       1690738206,     628112,     640400, 1671876026,  164336407,\n",
       "        164337175, 1668701725, 1665572032,     611728, 1721130331,\n",
       "       1693867563,     611733, 1690738219, 1722207579,  929423819,\n",
       "       1665584320, 1665584662, 1665584642], dtype=int64)"
      ]
     },
     "execution_count": 253,
     "metadata": {},
     "output_type": "execute_result"
    }
   ],
   "source": [
    "sample_1['product_ref'].unique()"
   ]
  },
  {
   "cell_type": "code",
   "execution_count": 33,
   "metadata": {},
   "outputs": [],
   "source": [
    "X=np.concatenate((sample_1[['quantity_tons_log','application','thickness_log','width','country','customer','product_ref']].values,status_encode,itemtype_encode),axis=1)\n",
    "Y=sample_1['selling_price_log']"
   ]
  },
  {
   "cell_type": "code",
   "execution_count": 40,
   "metadata": {},
   "outputs": [
    {
     "data": {
      "text/plain": [
       "array([[0., 0., 0., ..., 0., 1., 0.],\n",
       "       [0., 0., 0., ..., 0., 1., 0.],\n",
       "       [0., 0., 0., ..., 0., 0., 1.],\n",
       "       ...,\n",
       "       [0., 0., 0., ..., 0., 1., 0.],\n",
       "       [0., 0., 0., ..., 0., 1., 0.],\n",
       "       [0., 0., 0., ..., 0., 1., 0.]])"
      ]
     },
     "execution_count": 40,
     "metadata": {},
     "output_type": "execute_result"
    }
   ],
   "source": [
    "itemtype_encode"
   ]
  },
  {
   "cell_type": "code",
   "execution_count": 38,
   "metadata": {},
   "outputs": [
    {
     "data": {
      "text/plain": [
       "(181673, 9)"
      ]
     },
     "execution_count": 38,
     "metadata": {},
     "output_type": "execute_result"
    }
   ],
   "source": [
    "status_encode.shape"
   ]
  },
  {
   "cell_type": "code",
   "execution_count": 34,
   "metadata": {},
   "outputs": [],
   "source": [
    "X_train, X_test, Y_train, Y_test = train_test_split(X, Y, test_size=0.3, random_state=42)"
   ]
  },
  {
   "cell_type": "code",
   "execution_count": 36,
   "metadata": {},
   "outputs": [
    {
     "data": {
      "text/plain": [
       "(127171, 23)"
      ]
     },
     "execution_count": 36,
     "metadata": {},
     "output_type": "execute_result"
    }
   ],
   "source": [
    "X_train.shape"
   ]
  },
  {
   "cell_type": "code",
   "execution_count": null,
   "metadata": {},
   "outputs": [],
   "source": [
    "def model_accuracy(sample_1,algorithm):\n",
    "    X=sample_1[['quantity_tons_log','status','item type','application','thickness_log','width','country','customer','product_ref']]\n",
    "    Y=sample_1['selling_price_log']\n",
    "\n",
    "    X_train, X_test, Y_train, Y_test = train_test_split(X, Y, test_size=0.2, random_state=42)\n",
    "    model=algorithm().fit(X_train, Y_train)\n",
    "    \n",
    "    Y_pred_train=best_model.predict(X_train)\n",
    "    Y_pred_test=best_model.predict(X_test)\n",
    "    \n",
    "    r2_train=r2_score(Y_train, Y_pred_train)\n",
    "    r2_test=r2_score(Y_test, Y_pred_test)\n",
    "\n",
    "    mse=mean_squared_error(Y_test,Y_pred_test)\n",
    "\n",
    "    result={\"Algorithm\":algorithm.__name__,\n",
    "            \"R2_Train\":r2_train,\n",
    "            \"R2_Test\":r2_test,\n",
    "            \"Mean Sqr\":mse}\n",
    "    \n",
    "    return result"
   ]
  },
  {
   "cell_type": "code",
   "execution_count": 90,
   "metadata": {},
   "outputs": [
    {
     "name": "stderr",
     "output_type": "stream",
     "text": [
      "c:\\Users\\halee\\anaconda3\\Lib\\site-packages\\sklearn\\model_selection\\_validation.py:425: FitFailedWarning: \n",
      "180 fits failed out of a total of 540.\n",
      "The score on these train-test partitions for these parameters will be set to nan.\n",
      "If these failures are not expected, you can try to debug them by setting error_score='raise'.\n",
      "\n",
      "Below are more details about the failures:\n",
      "--------------------------------------------------------------------------------\n",
      "180 fits failed with the following error:\n",
      "Traceback (most recent call last):\n",
      "  File \"c:\\Users\\halee\\anaconda3\\Lib\\site-packages\\sklearn\\model_selection\\_validation.py\", line 732, in _fit_and_score\n",
      "    estimator.fit(X_train, y_train, **fit_params)\n",
      "  File \"c:\\Users\\halee\\anaconda3\\Lib\\site-packages\\sklearn\\base.py\", line 1144, in wrapper\n",
      "    estimator._validate_params()\n",
      "  File \"c:\\Users\\halee\\anaconda3\\Lib\\site-packages\\sklearn\\base.py\", line 637, in _validate_params\n",
      "    validate_parameter_constraints(\n",
      "  File \"c:\\Users\\halee\\anaconda3\\Lib\\site-packages\\sklearn\\utils\\_param_validation.py\", line 95, in validate_parameter_constraints\n",
      "    raise InvalidParameterError(\n",
      "sklearn.utils._param_validation.InvalidParameterError: The 'max_features' parameter of DecisionTreeRegressor must be an int in the range [1, inf), a float in the range (0.0, 1.0], a str among {'log2', 'sqrt'} or None. Got 'auto' instead.\n",
      "\n",
      "  warnings.warn(some_fits_failed_message, FitFailedWarning)\n",
      "c:\\Users\\halee\\anaconda3\\Lib\\site-packages\\sklearn\\model_selection\\_search.py:976: UserWarning: One or more of the test scores are non-finite: [       nan        nan        nan        nan        nan        nan\n",
      "        nan        nan        nan 0.22711661 0.07683622 0.23661687\n",
      " 0.06908811 0.06125909 0.05338512 0.20686616 0.07090238 0.21255375\n",
      " 0.22550606 0.05405641 0.06349729 0.07830292 0.06679135 0.0549536\n",
      " 0.53958578 0.03996177 0.24038786        nan        nan        nan\n",
      "        nan        nan        nan        nan        nan        nan\n",
      " 0.56971377 0.74228227 0.42813728 0.45702643 0.47069829 0.45881029\n",
      " 0.63351952 0.59156996 0.7185796  0.59484753 0.6843561  0.71597139\n",
      " 0.3286633  0.66099989 0.36754383 0.39109497 0.36496465 0.4272306\n",
      "        nan        nan        nan        nan        nan        nan\n",
      "        nan        nan        nan 0.84325985 0.79034419 0.82914729\n",
      " 0.83421098 0.84727995 0.83876399 0.78491525 0.77991397 0.8384197\n",
      " 0.80771784 0.84904537 0.79436319 0.83795141 0.82770734 0.86450813\n",
      " 0.84903875 0.82565885 0.77889698        nan        nan        nan\n",
      "        nan        nan        nan        nan        nan        nan\n",
      " 0.88701809 0.86970132 0.89517871 0.88522555 0.88366733 0.88359065\n",
      " 0.86698757 0.87574688 0.87676485 0.87963724 0.88188805 0.88499915\n",
      " 0.87914183 0.86511937 0.87914014 0.89881276 0.88195469 0.88954709]\n",
      "  warnings.warn(\n"
     ]
    },
    {
     "name": "stdout",
     "output_type": "stream",
     "text": [
      "{'Algorithm': 'DecisionTreeRegressor', 'R2_Train': 0.9324486120666927, 'R2_Test': 0.9076611141295043, 'Best hyperparameter': {'max_depth': 20, 'max_features': 'log2', 'min_samples_leaf': 4, 'min_samples_split': 2}}\n"
     ]
    }
   ],
   "source": [
    "print(model_accuracy(sample_1, DecisionTreeRegressor))\n",
    "print(model_accuracy(sample_1, RandomForestRegressor))\n",
    "print(model_accuracy(sample_1, ExtraTreesRegressor))"
   ]
  },
  {
   "cell_type": "code",
   "execution_count": 91,
   "metadata": {},
   "outputs": [
    {
     "name": "stderr",
     "output_type": "stream",
     "text": [
      "c:\\Users\\halee\\anaconda3\\Lib\\site-packages\\sklearn\\model_selection\\_validation.py:425: FitFailedWarning: \n",
      "180 fits failed out of a total of 540.\n",
      "The score on these train-test partitions for these parameters will be set to nan.\n",
      "If these failures are not expected, you can try to debug them by setting error_score='raise'.\n",
      "\n",
      "Below are more details about the failures:\n",
      "--------------------------------------------------------------------------------\n",
      "180 fits failed with the following error:\n",
      "Traceback (most recent call last):\n",
      "  File \"c:\\Users\\halee\\anaconda3\\Lib\\site-packages\\sklearn\\model_selection\\_validation.py\", line 732, in _fit_and_score\n",
      "    estimator.fit(X_train, y_train, **fit_params)\n",
      "  File \"c:\\Users\\halee\\anaconda3\\Lib\\site-packages\\sklearn\\base.py\", line 1144, in wrapper\n",
      "    estimator._validate_params()\n",
      "  File \"c:\\Users\\halee\\anaconda3\\Lib\\site-packages\\sklearn\\base.py\", line 637, in _validate_params\n",
      "    validate_parameter_constraints(\n",
      "  File \"c:\\Users\\halee\\anaconda3\\Lib\\site-packages\\sklearn\\utils\\_param_validation.py\", line 95, in validate_parameter_constraints\n",
      "    raise InvalidParameterError(\n",
      "sklearn.utils._param_validation.InvalidParameterError: The 'max_features' parameter of DecisionTreeRegressor must be an int in the range [1, inf), a float in the range (0.0, 1.0], a str among {'log2', 'sqrt'} or None. Got 'auto' instead.\n",
      "\n",
      "  warnings.warn(some_fits_failed_message, FitFailedWarning)\n",
      "c:\\Users\\halee\\anaconda3\\Lib\\site-packages\\sklearn\\model_selection\\_search.py:976: UserWarning: One or more of the test scores are non-finite: [       nan        nan        nan        nan        nan        nan\n",
      "        nan        nan        nan 0.21561394 0.07779342 0.03576352\n",
      " 0.04772992 0.09163807 0.20778135 0.04877258 0.23221697 0.37997184\n",
      " 0.22124507 0.3751663  0.21735779 0.0807568  0.09076465 0.21582022\n",
      " 0.1979889  0.22705965 0.38062748        nan        nan        nan\n",
      "        nan        nan        nan        nan        nan        nan\n",
      " 0.58364069 0.58743909 0.6000904  0.68249706 0.57750315 0.56691031\n",
      " 0.60361225 0.51963981 0.48818053 0.41154807 0.56151296 0.61738818\n",
      " 0.58404955 0.52633039 0.47440036 0.47582491 0.46804063 0.73041085\n",
      "        nan        nan        nan        nan        nan        nan\n",
      "        nan        nan        nan 0.83711899 0.80442974 0.81965338\n",
      " 0.67571978 0.83618521 0.79287403 0.77408115 0.82173832 0.81191098\n",
      " 0.82055345 0.85862905 0.84604975 0.8264991  0.80175567 0.76458586\n",
      " 0.8283002  0.81271986 0.83169696        nan        nan        nan\n",
      "        nan        nan        nan        nan        nan        nan\n",
      " 0.88100341 0.87718437 0.88827572 0.87990762 0.87377894 0.89239241\n",
      " 0.87486265 0.87539418 0.89451713 0.85351736 0.87721341 0.87713632\n",
      " 0.89178354 0.8892838  0.8939166  0.89885622 0.88624555 0.88684096]\n",
      "  warnings.warn(\n"
     ]
    },
    {
     "name": "stdout",
     "output_type": "stream",
     "text": [
      "{'Algorithm': 'RandomForestRegressor', 'R2_Train': 0.9375219543187258, 'R2_Test': 0.9138788601497003, 'Best hyperparameter': {'max_depth': 20, 'max_features': 'log2', 'min_samples_leaf': 4, 'min_samples_split': 2}}\n"
     ]
    }
   ],
   "source": [
    "print(model_accuracy(sample_1, RandomForestRegressor))"
   ]
  },
  {
   "cell_type": "code",
   "execution_count": 92,
   "metadata": {},
   "outputs": [
    {
     "name": "stderr",
     "output_type": "stream",
     "text": [
      "c:\\Users\\halee\\anaconda3\\Lib\\site-packages\\sklearn\\model_selection\\_validation.py:425: FitFailedWarning: \n",
      "180 fits failed out of a total of 540.\n",
      "The score on these train-test partitions for these parameters will be set to nan.\n",
      "If these failures are not expected, you can try to debug them by setting error_score='raise'.\n",
      "\n",
      "Below are more details about the failures:\n",
      "--------------------------------------------------------------------------------\n",
      "180 fits failed with the following error:\n",
      "Traceback (most recent call last):\n",
      "  File \"c:\\Users\\halee\\anaconda3\\Lib\\site-packages\\sklearn\\model_selection\\_validation.py\", line 732, in _fit_and_score\n",
      "    estimator.fit(X_train, y_train, **fit_params)\n",
      "  File \"c:\\Users\\halee\\anaconda3\\Lib\\site-packages\\sklearn\\base.py\", line 1144, in wrapper\n",
      "    estimator._validate_params()\n",
      "  File \"c:\\Users\\halee\\anaconda3\\Lib\\site-packages\\sklearn\\base.py\", line 637, in _validate_params\n",
      "    validate_parameter_constraints(\n",
      "  File \"c:\\Users\\halee\\anaconda3\\Lib\\site-packages\\sklearn\\utils\\_param_validation.py\", line 95, in validate_parameter_constraints\n",
      "    raise InvalidParameterError(\n",
      "sklearn.utils._param_validation.InvalidParameterError: The 'max_features' parameter of DecisionTreeRegressor must be an int in the range [1, inf), a float in the range (0.0, 1.0], a str among {'log2', 'sqrt'} or None. Got 'auto' instead.\n",
      "\n",
      "  warnings.warn(some_fits_failed_message, FitFailedWarning)\n",
      "c:\\Users\\halee\\anaconda3\\Lib\\site-packages\\sklearn\\model_selection\\_search.py:976: UserWarning: One or more of the test scores are non-finite: [       nan        nan        nan        nan        nan        nan\n",
      "        nan        nan        nan 0.0839617  0.04689033 0.09756513\n",
      " 0.063753   0.21557975 0.36474229 0.09277205 0.05444501 0.07202804\n",
      " 0.04120603 0.23321135 0.21620756 0.08617472 0.07473412 0.04254452\n",
      " 0.22885615 0.05112874 0.20012497        nan        nan        nan\n",
      "        nan        nan        nan        nan        nan        nan\n",
      " 0.50140732 0.7393049  0.46944159 0.37137374 0.47305404 0.54150295\n",
      " 0.34791171 0.4696572  0.6077566  0.57745969 0.34622811 0.69214981\n",
      " 0.47262475 0.41378763 0.48024029 0.47640254 0.4381539  0.56108681\n",
      "        nan        nan        nan        nan        nan        nan\n",
      "        nan        nan        nan 0.83599221 0.81428521 0.80576738\n",
      " 0.84889835 0.80021884 0.85563739 0.8238653  0.81334033 0.86422771\n",
      " 0.85385266 0.80767841 0.84753359 0.8791028  0.84137018 0.85201079\n",
      " 0.8420437  0.84547841 0.75400775        nan        nan        nan\n",
      "        nan        nan        nan        nan        nan        nan\n",
      " 0.87928669 0.88573847 0.8766964  0.88336058 0.86808623 0.8878434\n",
      " 0.88824366 0.89335557 0.88310675 0.86387314 0.86682098 0.88016656\n",
      " 0.88623483 0.8861012  0.8967401  0.88189973 0.86520899 0.89132918]\n",
      "  warnings.warn(\n"
     ]
    },
    {
     "name": "stdout",
     "output_type": "stream",
     "text": [
      "{'Algorithm': 'ExtraTreesRegressor', 'R2_Train': 0.9416499316100957, 'R2_Test': 0.905737020390841, 'Best hyperparameter': {'max_depth': 20, 'max_features': 'log2', 'min_samples_leaf': 2, 'min_samples_split': 10}}\n"
     ]
    }
   ],
   "source": [
    "print(model_accuracy(sample_1, ExtraTreesRegressor))"
   ]
  },
  {
   "cell_type": "code",
   "execution_count": 96,
   "metadata": {},
   "outputs": [
    {
     "name": "stderr",
     "output_type": "stream",
     "text": [
      "c:\\Users\\halee\\anaconda3\\Lib\\site-packages\\sklearn\\model_selection\\_validation.py:425: FitFailedWarning: \n",
      "180 fits failed out of a total of 540.\n",
      "The score on these train-test partitions for these parameters will be set to nan.\n",
      "If these failures are not expected, you can try to debug them by setting error_score='raise'.\n",
      "\n",
      "Below are more details about the failures:\n",
      "--------------------------------------------------------------------------------\n",
      "180 fits failed with the following error:\n",
      "Traceback (most recent call last):\n",
      "  File \"c:\\Users\\halee\\anaconda3\\Lib\\site-packages\\sklearn\\model_selection\\_validation.py\", line 732, in _fit_and_score\n",
      "    estimator.fit(X_train, y_train, **fit_params)\n",
      "  File \"c:\\Users\\halee\\anaconda3\\Lib\\site-packages\\sklearn\\base.py\", line 1144, in wrapper\n",
      "    estimator._validate_params()\n",
      "  File \"c:\\Users\\halee\\anaconda3\\Lib\\site-packages\\sklearn\\base.py\", line 637, in _validate_params\n",
      "    validate_parameter_constraints(\n",
      "  File \"c:\\Users\\halee\\anaconda3\\Lib\\site-packages\\sklearn\\utils\\_param_validation.py\", line 95, in validate_parameter_constraints\n",
      "    raise InvalidParameterError(\n",
      "sklearn.utils._param_validation.InvalidParameterError: The 'max_features' parameter of DecisionTreeRegressor must be an int in the range [1, inf), a float in the range (0.0, 1.0], a str among {'log2', 'sqrt'} or None. Got 'auto' instead.\n",
      "\n",
      "  warnings.warn(some_fits_failed_message, FitFailedWarning)\n",
      "c:\\Users\\halee\\anaconda3\\Lib\\site-packages\\sklearn\\model_selection\\_search.py:976: UserWarning: One or more of the test scores are non-finite: [       nan        nan        nan        nan        nan        nan\n",
      "        nan        nan        nan 0.2387186  0.07027722 0.23395088\n",
      " 0.20399544 0.36740714 0.05108148 0.2119943  0.06170373 0.0801364\n",
      " 0.20438965 0.07078022 0.08444884 0.24556427 0.21692969 0.3851861\n",
      " 0.03615996 0.35280655 0.21381813        nan        nan        nan\n",
      "        nan        nan        nan        nan        nan        nan\n",
      " 0.36280478 0.39460065 0.63712781 0.52116345 0.64602485 0.554284\n",
      " 0.50550064 0.61581397 0.73673549 0.50433877 0.57389946 0.81045156\n",
      " 0.5735744  0.42635121 0.5200903  0.45452154 0.5712653  0.7546315\n",
      "        nan        nan        nan        nan        nan        nan\n",
      "        nan        nan        nan 0.82181301 0.77436778 0.83038796\n",
      " 0.75867418 0.79231467 0.84848738 0.85116078 0.82856318 0.84524982\n",
      " 0.8455883  0.83298111 0.80731546 0.79133734 0.87577961 0.85709425\n",
      " 0.80152446 0.84130491 0.86746559        nan        nan        nan\n",
      "        nan        nan        nan        nan        nan        nan\n",
      " 0.88249228 0.87991719 0.89899956 0.8783827  0.88576222 0.89162331\n",
      " 0.87142767 0.86372512 0.88096425 0.85312184 0.8969017  0.88033462\n",
      " 0.88625791 0.88008834 0.89737733 0.88857144 0.88564864 0.87059615]\n",
      "  warnings.warn(\n"
     ]
    },
    {
     "name": "stdout",
     "output_type": "stream",
     "text": [
      "Algorithm DecisionTreeRegressor()\n",
      "R2_Train 0.9445281581435407\n",
      "R2_Test 0.8938972210651606\n",
      "Best hyperparameter {'max_depth': 20, 'max_features': 'sqrt', 'min_samples_leaf': 1, 'min_samples_split': 10}\n"
     ]
    }
   ],
   "source": [
    "X=sample_1[['quantity_tons_log','status','item type','application','thickness_log','width','country','customer','product_ref']]\n",
    "Y=sample_1['selling_price_log']\n",
    "\n",
    "X_train, X_test, Y_train, Y_test = train_test_split(X, Y, test_size=0.2, random_state=42)\n",
    "param_grid  = {'max_depth': [2, 5, 10, 20],\n",
    "              'min_samples_split': [2, 5, 10],\n",
    "              'min_samples_leaf': [1, 2, 4],\n",
    "              'max_features': ['auto', 'sqrt', 'log2']}\n",
    "model=DecisionTreeRegressor()\n",
    "\n",
    "Grid_Search=GridSearchCV(estimator=model,param_grid=param_grid,cv=5 )\n",
    "Grid_Search.fit( X_train, Y_train)\n",
    "best_model=Grid_Search.best_estimator_\n",
    "\n",
    "Y_pred_train=best_model.predict(X_train)\n",
    "Y_pred_test=best_model.predict(X_test)\n",
    "\n",
    "r2_train=r2_score(Y_train, Y_pred_train)\n",
    "r2_test=r2_score(Y_test, Y_pred_test)\n",
    "\n",
    "print(\"Algorithm\",model)\n",
    "print(\"R2_Train\",r2_train)\n",
    "print( \"R2_Test\",r2_test)\n",
    "print(\"Best hyperparameter\",Grid_Search.best_params_)"
   ]
  },
  {
   "cell_type": "code",
   "execution_count": 1,
   "metadata": {},
   "outputs": [],
   "source": [
    "def model_accuracy(sample_1,algorithm):\n",
    "    X=sample_1[['quantity_tons_log','status','item type','application','thickness_log','width','country','customer','product_ref']]\n",
    "    Y=sample_1['selling_price_log']\n",
    "\n",
    "    X_train, X_test, Y_train, Y_test = train_test_split(X, Y, test_size=0.2,random_state=42)\n",
    "    model=algorithm().fit(X_train, Y_train)\n",
    "    \n",
    "    Y_pred_train=model.predict(X_train)\n",
    "    Y_pred_test=model.predict(X_test)\n",
    "    \n",
    "    r2_train=r2_score(Y_train, Y_pred_train)\n",
    "    r2_test=r2_score(Y_test, Y_pred_test)\n",
    "\n",
    "    mse=mean_squared_error(Y_test,Y_pred_test)\n",
    "\n",
    "    result={\"Algorithm\":algorithm.__name__,\n",
    "            \"R2_Train\":r2_train,\n",
    "            \"R2_Test\":r2_test,\n",
    "            \"Mean Sqr\":mse}\n",
    "    \n",
    "    return result\n"
   ]
  },
  {
   "cell_type": "code",
   "execution_count": null,
   "metadata": {},
   "outputs": [],
   "source": [
    "print(model_accuracy(sample_1,DecisionTreeRegressor))\n",
    "print(model_accuracy(sample_1,ExtraTreesRegressor))\n",
    "print(model_accuracy(sample_1,RandomForestRegressor))\n"
   ]
  },
  {
   "cell_type": "code",
   "execution_count": 156,
   "metadata": {},
   "outputs": [
    {
     "data": {
      "text/html": [
       "<div>\n",
       "<style scoped>\n",
       "    .dataframe tbody tr th:only-of-type {\n",
       "        vertical-align: middle;\n",
       "    }\n",
       "\n",
       "    .dataframe tbody tr th {\n",
       "        vertical-align: top;\n",
       "    }\n",
       "\n",
       "    .dataframe thead th {\n",
       "        text-align: right;\n",
       "    }\n",
       "</style>\n",
       "<table border=\"1\" class=\"dataframe\">\n",
       "  <thead>\n",
       "    <tr style=\"text-align: right;\">\n",
       "      <th></th>\n",
       "      <th>item_date</th>\n",
       "      <th>customer</th>\n",
       "      <th>country</th>\n",
       "      <th>status</th>\n",
       "      <th>item type</th>\n",
       "      <th>application</th>\n",
       "      <th>width</th>\n",
       "      <th>product_ref</th>\n",
       "      <th>delivery date</th>\n",
       "      <th>quantity_tons_log</th>\n",
       "      <th>selling_price_log</th>\n",
       "      <th>thickness_log</th>\n",
       "    </tr>\n",
       "  </thead>\n",
       "  <tbody>\n",
       "    <tr>\n",
       "      <th>0</th>\n",
       "      <td>2021-01-01</td>\n",
       "      <td>30156308.0</td>\n",
       "      <td>28.0</td>\n",
       "      <td>1</td>\n",
       "      <td>5</td>\n",
       "      <td>10.0</td>\n",
       "      <td>1500.0</td>\n",
       "      <td>1670798778</td>\n",
       "      <td>2021-01-01</td>\n",
       "      <td>3.991779</td>\n",
       "      <td>6.749931</td>\n",
       "      <td>0.693147</td>\n",
       "    </tr>\n",
       "    <tr>\n",
       "      <th>1</th>\n",
       "      <td>2021-01-01</td>\n",
       "      <td>30202938.0</td>\n",
       "      <td>25.0</td>\n",
       "      <td>1</td>\n",
       "      <td>5</td>\n",
       "      <td>41.0</td>\n",
       "      <td>1210.0</td>\n",
       "      <td>1668701718</td>\n",
       "      <td>2021-01-01</td>\n",
       "      <td>6.643822</td>\n",
       "      <td>6.953684</td>\n",
       "      <td>-0.223144</td>\n",
       "    </tr>\n",
       "    <tr>\n",
       "      <th>2</th>\n",
       "      <td>2021-01-01</td>\n",
       "      <td>30153963.0</td>\n",
       "      <td>30.0</td>\n",
       "      <td>1</td>\n",
       "      <td>6</td>\n",
       "      <td>28.0</td>\n",
       "      <td>952.0</td>\n",
       "      <td>628377</td>\n",
       "      <td>2021-01-01</td>\n",
       "      <td>5.956169</td>\n",
       "      <td>6.468211</td>\n",
       "      <td>-0.967584</td>\n",
       "    </tr>\n",
       "    <tr>\n",
       "      <th>3</th>\n",
       "      <td>2021-01-01</td>\n",
       "      <td>30349574.0</td>\n",
       "      <td>32.0</td>\n",
       "      <td>1</td>\n",
       "      <td>3</td>\n",
       "      <td>59.0</td>\n",
       "      <td>1317.0</td>\n",
       "      <td>1668701718</td>\n",
       "      <td>2021-01-01</td>\n",
       "      <td>5.310301</td>\n",
       "      <td>6.643790</td>\n",
       "      <td>0.832909</td>\n",
       "    </tr>\n",
       "    <tr>\n",
       "      <th>4</th>\n",
       "      <td>2021-01-01</td>\n",
       "      <td>30211560.0</td>\n",
       "      <td>28.0</td>\n",
       "      <td>1</td>\n",
       "      <td>5</td>\n",
       "      <td>10.0</td>\n",
       "      <td>2000.0</td>\n",
       "      <td>640665</td>\n",
       "      <td>2021-01-01</td>\n",
       "      <td>6.666354</td>\n",
       "      <td>6.357842</td>\n",
       "      <td>1.386294</td>\n",
       "    </tr>\n",
       "  </tbody>\n",
       "</table>\n",
       "</div>"
      ],
      "text/plain": [
       "    item_date    customer  country  status  item type  application   width  \\\n",
       "0  2021-01-01  30156308.0     28.0       1          5         10.0  1500.0   \n",
       "1  2021-01-01  30202938.0     25.0       1          5         41.0  1210.0   \n",
       "2  2021-01-01  30153963.0     30.0       1          6         28.0   952.0   \n",
       "3  2021-01-01  30349574.0     32.0       1          3         59.0  1317.0   \n",
       "4  2021-01-01  30211560.0     28.0       1          5         10.0  2000.0   \n",
       "\n",
       "   product_ref delivery date  quantity_tons_log  selling_price_log  \\\n",
       "0   1670798778    2021-01-01           3.991779           6.749931   \n",
       "1   1668701718    2021-01-01           6.643822           6.953684   \n",
       "2       628377    2021-01-01           5.956169           6.468211   \n",
       "3   1668701718    2021-01-01           5.310301           6.643790   \n",
       "4       640665    2021-01-01           6.666354           6.357842   \n",
       "\n",
       "   thickness_log  \n",
       "0       0.693147  \n",
       "1      -0.223144  \n",
       "2      -0.967584  \n",
       "3       0.832909  \n",
       "4       1.386294  "
      ]
     },
     "execution_count": 156,
     "metadata": {},
     "output_type": "execute_result"
    }
   ],
   "source": [
    "sample_1.head()"
   ]
  },
  {
   "cell_type": "code",
   "execution_count": 30,
   "metadata": {},
   "outputs": [],
   "source": [
    "def acc(status_encode,itemtype_encode,algorithm): \n",
    "    X=np.concatenate((sample_1[['quantity_tons_log','application','thickness_log','width','country','customer','product_ref']].values,status_encode,itemtype_encode),axis=1)\n",
    "    Y=sample_1['selling_price_log']\n",
    "    scaler = StandardScaler()\n",
    "    X = scaler.fit_transform(X)\n",
    "\n",
    "    X_train, X_test, Y_train, Y_test = train_test_split(X, Y, test_size=0.2, random_state=42)\n",
    "    model=algorithm().fit(X_train, Y_train)\n",
    "        \n",
    "    Y_pred_train=model.predict(X_train)\n",
    "    Y_pred_test=model.predict(X_test)\n",
    "\n",
    "    r2_train=r2_score(Y_train, Y_pred_train)\n",
    "    r2_test=r2_score(Y_test, Y_pred_test)\n",
    "    mse=mean_squared_error(Y_test,Y_pred_test)\n",
    "\n",
    "    result={\"Algorithm\":algorithm.__name__,\n",
    "                \"R2_Train\":r2_train,\n",
    "                \"R2_Test\":r2_test,\n",
    "                \"Mean Sqr\":mse}\n",
    "        \n",
    "    return result\n"
   ]
  },
  {
   "cell_type": "code",
   "execution_count": 31,
   "metadata": {},
   "outputs": [
    {
     "name": "stdout",
     "output_type": "stream",
     "text": [
      "{'Algorithm': 'DecisionTreeRegressor', 'R2_Train': 1.0, 'R2_Test': 0.891445006988197, 'Mean Sqr': 0.03381559496946451}\n",
      "{'Algorithm': 'ExtraTreesRegressor', 'R2_Train': 1.0, 'R2_Test': 0.9202423117345957, 'Mean Sqr': 0.024845044960672386}\n",
      "{'Algorithm': 'RandomForestRegressor', 'R2_Train': 0.9897562394904462, 'R2_Test': 0.9336034839324492, 'Mean Sqr': 0.02068295186090354}\n"
     ]
    }
   ],
   "source": [
    "print(acc(status_encode,itemtype_encode,DecisionTreeRegressor))\n",
    "print(acc(status_encode,itemtype_encode,ExtraTreesRegressor))\n",
    "print(acc(status_encode,itemtype_encode,RandomForestRegressor))"
   ]
  },
  {
   "cell_type": "code",
   "execution_count": 32,
   "metadata": {},
   "outputs": [],
   "source": [
    "X=np.concatenate((sample_1[['quantity_tons_log','application','thickness_log','width','country','customer','product_ref']].values,status_encode,itemtype_encode),axis=1)\n",
    "Y=sample_1['selling_price_log']\n",
    "scaler = StandardScaler()\n",
    "X = scaler.fit_transform(X)\n",
    "\n",
    "X_train, X_test, Y_train, Y_test = train_test_split(X, Y, test_size=0.2, random_state=42)\n",
    "model=RandomForestRegressor().fit(X_train, Y_train)\n",
    "        \n",
    "Y_pred_train=model.predict(X_train)\n",
    "Y_pred_test=model.predict(X_test)\n"
   ]
  },
  {
   "cell_type": "code",
   "execution_count": 34,
   "metadata": {},
   "outputs": [],
   "source": [
    "with open(\"price_model_pkl\",\"wb\") as files:\n",
    "  pickle.dump(model, files)\n",
    "\n",
    "with open(\"pstatus_pkl\",\"wb\") as files:\n",
    "  pickle.dump(status_encode, files)\n",
    "\n",
    "with open(\"pitem_pkl\",\"wb\") as files:\n",
    "  pickle.dump(itemtype_encode, files)\n",
    "\n",
    "# import pickle\n",
    "#with open(\"price_model_pkl\",\"rb\") as files:\n",
    "  #best_model=pickle.load(files)"
   ]
  },
  {
   "cell_type": "code",
   "execution_count": 158,
   "metadata": {},
   "outputs": [
    {
     "name": "stderr",
     "output_type": "stream",
     "text": [
      "c:\\Users\\halee\\anaconda3\\Lib\\site-packages\\sklearn\\base.py:464: UserWarning: X does not have valid feature names, but RandomForestRegressor was fitted with feature names\n",
      "  warnings.warn(\n"
     ]
    },
    {
     "data": {
      "text/plain": [
       "array([2.83550273])"
      ]
     },
     "execution_count": 158,
     "metadata": {},
     "output_type": "execute_result"
    }
   ],
   "source": [
    "sell=model.predict([[5,2,4,11,0.1,1200,24,30211560,628377]])\n",
    "sell"
   ]
  },
  {
   "cell_type": "code",
   "execution_count": 96,
   "metadata": {},
   "outputs": [],
   "source": [
    "sample_2=sample_1.copy()"
   ]
  },
  {
   "cell_type": "code",
   "execution_count": 97,
   "metadata": {},
   "outputs": [
    {
     "data": {
      "text/html": [
       "<div>\n",
       "<style scoped>\n",
       "    .dataframe tbody tr th:only-of-type {\n",
       "        vertical-align: middle;\n",
       "    }\n",
       "\n",
       "    .dataframe tbody tr th {\n",
       "        vertical-align: top;\n",
       "    }\n",
       "\n",
       "    .dataframe thead th {\n",
       "        text-align: right;\n",
       "    }\n",
       "</style>\n",
       "<table border=\"1\" class=\"dataframe\">\n",
       "  <thead>\n",
       "    <tr style=\"text-align: right;\">\n",
       "      <th></th>\n",
       "      <th>item_date</th>\n",
       "      <th>customer</th>\n",
       "      <th>country</th>\n",
       "      <th>status</th>\n",
       "      <th>item type</th>\n",
       "      <th>application</th>\n",
       "      <th>width</th>\n",
       "      <th>product_ref</th>\n",
       "      <th>delivery date</th>\n",
       "      <th>quantity_tons_log</th>\n",
       "      <th>selling_price_log</th>\n",
       "      <th>thickness_log</th>\n",
       "    </tr>\n",
       "  </thead>\n",
       "  <tbody>\n",
       "    <tr>\n",
       "      <th>0</th>\n",
       "      <td>2021-01-01</td>\n",
       "      <td>30156308.0</td>\n",
       "      <td>28.0</td>\n",
       "      <td>0.0</td>\n",
       "      <td>0.0</td>\n",
       "      <td>10.0</td>\n",
       "      <td>1500.0</td>\n",
       "      <td>1670798778</td>\n",
       "      <td>2021-01-01</td>\n",
       "      <td>3.991779</td>\n",
       "      <td>6.749931</td>\n",
       "      <td>0.693147</td>\n",
       "    </tr>\n",
       "    <tr>\n",
       "      <th>1</th>\n",
       "      <td>2021-01-01</td>\n",
       "      <td>30202938.0</td>\n",
       "      <td>25.0</td>\n",
       "      <td>0.0</td>\n",
       "      <td>0.0</td>\n",
       "      <td>41.0</td>\n",
       "      <td>1210.0</td>\n",
       "      <td>1668701718</td>\n",
       "      <td>2021-01-01</td>\n",
       "      <td>6.643822</td>\n",
       "      <td>6.953684</td>\n",
       "      <td>-0.223144</td>\n",
       "    </tr>\n",
       "    <tr>\n",
       "      <th>2</th>\n",
       "      <td>2021-01-01</td>\n",
       "      <td>30153963.0</td>\n",
       "      <td>30.0</td>\n",
       "      <td>0.0</td>\n",
       "      <td>0.0</td>\n",
       "      <td>28.0</td>\n",
       "      <td>952.0</td>\n",
       "      <td>628377</td>\n",
       "      <td>2021-01-01</td>\n",
       "      <td>5.956169</td>\n",
       "      <td>6.468211</td>\n",
       "      <td>-0.967584</td>\n",
       "    </tr>\n",
       "    <tr>\n",
       "      <th>3</th>\n",
       "      <td>2021-01-01</td>\n",
       "      <td>30349574.0</td>\n",
       "      <td>32.0</td>\n",
       "      <td>0.0</td>\n",
       "      <td>0.0</td>\n",
       "      <td>59.0</td>\n",
       "      <td>1317.0</td>\n",
       "      <td>1668701718</td>\n",
       "      <td>2021-01-01</td>\n",
       "      <td>5.310301</td>\n",
       "      <td>6.643790</td>\n",
       "      <td>0.832909</td>\n",
       "    </tr>\n",
       "    <tr>\n",
       "      <th>4</th>\n",
       "      <td>2021-01-01</td>\n",
       "      <td>30211560.0</td>\n",
       "      <td>28.0</td>\n",
       "      <td>0.0</td>\n",
       "      <td>0.0</td>\n",
       "      <td>10.0</td>\n",
       "      <td>2000.0</td>\n",
       "      <td>640665</td>\n",
       "      <td>2021-01-01</td>\n",
       "      <td>6.666354</td>\n",
       "      <td>6.357842</td>\n",
       "      <td>1.386294</td>\n",
       "    </tr>\n",
       "  </tbody>\n",
       "</table>\n",
       "</div>"
      ],
      "text/plain": [
       "    item_date    customer  country  status  item type  application   width  \\\n",
       "0  2021-01-01  30156308.0     28.0     0.0        0.0         10.0  1500.0   \n",
       "1  2021-01-01  30202938.0     25.0     0.0        0.0         41.0  1210.0   \n",
       "2  2021-01-01  30153963.0     30.0     0.0        0.0         28.0   952.0   \n",
       "3  2021-01-01  30349574.0     32.0     0.0        0.0         59.0  1317.0   \n",
       "4  2021-01-01  30211560.0     28.0     0.0        0.0         10.0  2000.0   \n",
       "\n",
       "   product_ref delivery date  quantity_tons_log  selling_price_log  \\\n",
       "0   1670798778    2021-01-01           3.991779           6.749931   \n",
       "1   1668701718    2021-01-01           6.643822           6.953684   \n",
       "2       628377    2021-01-01           5.956169           6.468211   \n",
       "3   1668701718    2021-01-01           5.310301           6.643790   \n",
       "4       640665    2021-01-01           6.666354           6.357842   \n",
       "\n",
       "   thickness_log  \n",
       "0       0.693147  \n",
       "1      -0.223144  \n",
       "2      -0.967584  \n",
       "3       0.832909  \n",
       "4       1.386294  "
      ]
     },
     "execution_count": 97,
     "metadata": {},
     "output_type": "execute_result"
    }
   ],
   "source": [
    "sample_2.head()"
   ]
  },
  {
   "cell_type": "code",
   "execution_count": 265,
   "metadata": {},
   "outputs": [
    {
     "data": {
      "text/plain": [
       "status\n",
       "0.0    178533\n",
       "1.0      3140\n",
       "Name: count, dtype: int64"
      ]
     },
     "execution_count": 265,
     "metadata": {},
     "output_type": "execute_result"
    }
   ],
   "source": [
    "sample_2.status.value_counts()"
   ]
  },
  {
   "cell_type": "code",
   "execution_count": 244,
   "metadata": {},
   "outputs": [
    {
     "data": {
      "text/plain": [
       "<bound method IndexOpsMixin.nunique of 0         0.0\n",
       "1         0.0\n",
       "2         0.0\n",
       "3         0.0\n",
       "4         0.0\n",
       "         ... \n",
       "181668    0.0\n",
       "181669    0.0\n",
       "181670    0.0\n",
       "181671    0.0\n",
       "181672    0.0\n",
       "Name: status, Length: 181673, dtype: float64>"
      ]
     },
     "execution_count": 244,
     "metadata": {},
     "output_type": "execute_result"
    }
   ],
   "source": [
    "sample_1['status'].nunique"
   ]
  },
  {
   "cell_type": "code",
   "execution_count": 45,
   "metadata": {},
   "outputs": [
    {
     "data": {
      "text/plain": [
       "(-11.512925464970229, 20.72326583694641)"
      ]
     },
     "execution_count": 45,
     "metadata": {},
     "output_type": "execute_result"
    }
   ],
   "source": [
    "sample_1['quantity_tons_log'].min(),sample_1['quantity_tons_log'].max()"
   ]
  },
  {
   "cell_type": "code",
   "execution_count": 52,
   "metadata": {},
   "outputs": [
    {
     "data": {
      "text/plain": [
       "(1.0, 2990.0)"
      ]
     },
     "execution_count": 52,
     "metadata": {},
     "output_type": "execute_result"
    }
   ],
   "source": [
    "sample_1['width'].min(),sample_1['width'].max()"
   ]
  },
  {
   "cell_type": "code",
   "execution_count": null,
   "metadata": {},
   "outputs": [],
   "source": [
    "sample_1['thickness_log'].min(),sample_1['thickness_log'].max()"
   ]
  },
  {
   "cell_type": "code",
   "execution_count": 38,
   "metadata": {},
   "outputs": [],
   "source": [
    "def model_acc(item_s_encode,itemtype_encode,algorithm): \n",
    "    X=np.concatenate((sample_1[['quantity_tons_log','application','thickness_log','width','country','customer','product_ref']].values,itemtype_encode),axis=1)\n",
    "    Y=item_s_encode\n",
    "    scaler = StandardScaler()\n",
    "    X = scaler.fit_transform(X)\n",
    "\n",
    "    X_train, X_test, Y_train, Y_test = train_test_split(X, Y, test_size=0.2, random_state=42)\n",
    "    model=algorithm().fit(X_train, Y_train)\n",
    "        \n",
    "    Y_pred_train=model.predict(X_train)\n",
    "    Y_pred_test=model.predict(X_test)\n",
    "\n",
    "    r2_train=r2_score(Y_train, Y_pred_train)\n",
    "    r2_test=r2_score(Y_test, Y_pred_test)\n",
    "    mse=mean_squared_error(Y_test,Y_pred_test)\n",
    "\n",
    "    result={\"Algorithm\":algorithm.__name__,\n",
    "                \"R2_Train\":r2_train,\n",
    "                \"R2_Test\":r2_test,\n",
    "                \"Mean Sqr\":mse}\n",
    "        \n",
    "    return result\n",
    "\n"
   ]
  },
  {
   "cell_type": "code",
   "execution_count": 41,
   "metadata": {},
   "outputs": [
    {
     "name": "stdout",
     "output_type": "stream",
     "text": [
      "{'Algorithm': 'DecisionTreeClassifier', 'R2_Train': 1.0, 'R2_Test': 0.9996049267971543, 'Mean Sqr': 0.0004403467730838035}\n",
      "{'Algorithm': 'RandomForestClassifier', 'R2_Train': 1.0, 'R2_Test': 0.9997777713233993, 'Mean Sqr': 0.00024769505985963947}\n",
      "{'Algorithm': 'ExtraTreesClassifier', 'R2_Train': 1.0, 'R2_Test': 0.9999012316992886, 'Mean Sqr': 0.00011008669327095088}\n"
     ]
    }
   ],
   "source": [
    "print(model_acc(item_s_encode,itemtype_encode,DecisionTreeClassifier))\n",
    "print(model_acc(item_s_encode,itemtype_encode,RandomForestClassifier))\n",
    "print(model_acc(item_s_encode,itemtype_encode,ExtraTreesClassifier))"
   ]
  },
  {
   "cell_type": "code",
   "execution_count": 43,
   "metadata": {},
   "outputs": [],
   "source": [
    "x=np.concatenate((sample_1[['quantity_tons_log','application','thickness_log','width','country','customer','product_ref']].values,itemtype_encode),axis=1)\n",
    "y=item_s_encode\n",
    "scaler = StandardScaler()\n",
    "x = scaler.fit_transform(x)\n",
    "\n",
    "x_train, x_test, y_train, y_test = train_test_split(x, y, test_size=0.2, random_state=42)\n",
    "Model=RandomForestClassifier().fit(x_train, y_train)"
   ]
  },
  {
   "cell_type": "code",
   "execution_count": 44,
   "metadata": {},
   "outputs": [],
   "source": [
    "with open(\"status_model_pkl\",\"wb\") as files:\n",
    "  pickle.dump(Model, files)\n",
    "\n",
    "with open(\"sitem_pkl\",\"wb\") as files:\n",
    "  pickle.dump(item_s_encode, files)\n",
    "\n",
    "with open(\"sitem_pkl\",\"wb\") as files:\n",
    "  pickle.dump(itemtype_encode, files)"
   ]
  }
 ],
 "metadata": {
  "kernelspec": {
   "display_name": "base",
   "language": "python",
   "name": "python3"
  },
  "language_info": {
   "codemirror_mode": {
    "name": "ipython",
    "version": 3
   },
   "file_extension": ".py",
   "mimetype": "text/x-python",
   "name": "python",
   "nbconvert_exporter": "python",
   "pygments_lexer": "ipython3",
   "version": "3.11.5"
  }
 },
 "nbformat": 4,
 "nbformat_minor": 2
}
